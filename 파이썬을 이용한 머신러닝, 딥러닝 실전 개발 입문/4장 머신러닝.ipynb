{
 "cells": [
  {
   "cell_type": "markdown",
   "metadata": {},
   "source": [
    "# XOR 연산 학습해보기"
   ]
  },
  {
   "cell_type": "code",
   "execution_count": 2,
   "metadata": {},
   "outputs": [
    {
     "name": "stdout",
     "output_type": "stream",
     "text": [
      "예측결과: [0 1 1 0]\n",
      "정답률 :  4 / 4 = 1.0\n"
     ]
    }
   ],
   "source": [
    "from sklearn import svm\n",
    "\n",
    "xor_data = [[0, 0, 0],\n",
    "            [0, 1, 1],\n",
    "            [1, 0, 1],\n",
    "            [1, 1, 0]\n",
    "           ]\n",
    "\n",
    "data = []\n",
    "label = []\n",
    "for row in xor_data:\n",
    "    p = row[0]\n",
    "    q = row[1]\n",
    "    r = row[2]\n",
    "    data.append([p, q])\n",
    "    label.append(r)\n",
    "\n",
    "clf = svm.SVC()\n",
    "clf.fit(data, label)\n",
    "pre = clf.predict(data)\n",
    "print(\"예측결과:\", pre)\n",
    "\n",
    "ok = 0\n",
    "total = 0\n",
    "for idx, answer in enumerate(label):\n",
    "    p = pre[idx]\n",
    "    if p == answer:\n",
    "        ok += 1\n",
    "    total += 1\n",
    "\n",
    "print(\"정답률 : \", ok, \"/\", total, \"=\", ok/total)"
   ]
  },
  {
   "cell_type": "code",
   "execution_count": 2,
   "metadata": {},
   "outputs": [],
   "source": [
    "from sklearn.datasets import load_iris\n",
    "iris = load_iris()\n"
   ]
  },
  {
   "cell_type": "code",
   "execution_count": 4,
   "metadata": {},
   "outputs": [
    {
     "data": {
      "text/plain": [
       "array(['setosa', 'setosa', 'setosa', 'setosa', 'setosa', 'setosa',\n",
       "       'setosa', 'setosa', 'setosa', 'setosa', 'setosa', 'setosa',\n",
       "       'setosa', 'setosa', 'setosa', 'setosa', 'setosa', 'setosa',\n",
       "       'setosa', 'setosa', 'setosa', 'setosa', 'setosa', 'setosa',\n",
       "       'setosa', 'setosa', 'setosa', 'setosa', 'setosa', 'setosa',\n",
       "       'setosa', 'setosa', 'setosa', 'setosa', 'setosa', 'setosa',\n",
       "       'setosa', 'setosa', 'setosa', 'setosa', 'setosa', 'setosa',\n",
       "       'setosa', 'setosa', 'setosa', 'setosa', 'setosa', 'setosa',\n",
       "       'setosa', 'setosa', 'versicolor', 'versicolor', 'versicolor',\n",
       "       'versicolor', 'versicolor', 'versicolor', 'versicolor',\n",
       "       'versicolor', 'versicolor', 'versicolor', 'versicolor',\n",
       "       'versicolor', 'versicolor', 'versicolor', 'versicolor',\n",
       "       'versicolor', 'versicolor', 'versicolor', 'versicolor',\n",
       "       'versicolor', 'versicolor', 'versicolor', 'versicolor',\n",
       "       'versicolor', 'versicolor', 'versicolor', 'versicolor',\n",
       "       'versicolor', 'versicolor', 'versicolor', 'versicolor',\n",
       "       'versicolor', 'versicolor', 'versicolor', 'versicolor',\n",
       "       'versicolor', 'versicolor', 'versicolor', 'versicolor',\n",
       "       'versicolor', 'versicolor', 'versicolor', 'versicolor',\n",
       "       'versicolor', 'versicolor', 'versicolor', 'versicolor',\n",
       "       'versicolor', 'versicolor', 'versicolor', 'virginica', 'virginica',\n",
       "       'virginica', 'virginica', 'virginica', 'virginica', 'virginica',\n",
       "       'virginica', 'virginica', 'virginica', 'virginica', 'virginica',\n",
       "       'virginica', 'virginica', 'virginica', 'virginica', 'virginica',\n",
       "       'virginica', 'virginica', 'virginica', 'virginica', 'virginica',\n",
       "       'virginica', 'virginica', 'virginica', 'virginica', 'virginica',\n",
       "       'virginica', 'virginica', 'virginica', 'virginica', 'virginica',\n",
       "       'virginica', 'virginica', 'virginica', 'virginica', 'virginica',\n",
       "       'virginica', 'virginica', 'virginica', 'virginica', 'virginica',\n",
       "       'virginica', 'virginica', 'virginica', 'virginica', 'virginica',\n",
       "       'virginica', 'virginica', 'virginica'], dtype='<U10')"
      ]
     },
     "execution_count": 4,
     "metadata": {},
     "output_type": "execute_result"
    }
   ],
   "source": [
    "iris.target_names[iris.target]"
   ]
  },
  {
   "cell_type": "code",
   "execution_count": 22,
   "metadata": {},
   "outputs": [],
   "source": [
    "from sklearn import svm, metrics\n",
    "import random, re\n",
    "import pandas as pd\n",
    "\n",
    "df = pd.DataFrame(iris.data, columns=iris.feature_names)"
   ]
  },
  {
   "cell_type": "code",
   "execution_count": 15,
   "metadata": {},
   "outputs": [
    {
     "data": {
      "text/html": [
       "<div>\n",
       "<style scoped>\n",
       "    .dataframe tbody tr th:only-of-type {\n",
       "        vertical-align: middle;\n",
       "    }\n",
       "\n",
       "    .dataframe tbody tr th {\n",
       "        vertical-align: top;\n",
       "    }\n",
       "\n",
       "    .dataframe thead th {\n",
       "        text-align: right;\n",
       "    }\n",
       "</style>\n",
       "<table border=\"1\" class=\"dataframe\">\n",
       "  <thead>\n",
       "    <tr style=\"text-align: right;\">\n",
       "      <th></th>\n",
       "      <th>sepal length (cm)</th>\n",
       "      <th>sepal width (cm)</th>\n",
       "      <th>petal length (cm)</th>\n",
       "      <th>petal width (cm)</th>\n",
       "      <th>Name</th>\n",
       "    </tr>\n",
       "  </thead>\n",
       "  <tbody>\n",
       "    <tr>\n",
       "      <th>0</th>\n",
       "      <td>5.1</td>\n",
       "      <td>3.5</td>\n",
       "      <td>1.4</td>\n",
       "      <td>0.2</td>\n",
       "      <td>setosa</td>\n",
       "    </tr>\n",
       "    <tr>\n",
       "      <th>1</th>\n",
       "      <td>4.9</td>\n",
       "      <td>3.0</td>\n",
       "      <td>1.4</td>\n",
       "      <td>0.2</td>\n",
       "      <td>setosa</td>\n",
       "    </tr>\n",
       "    <tr>\n",
       "      <th>2</th>\n",
       "      <td>4.7</td>\n",
       "      <td>3.2</td>\n",
       "      <td>1.3</td>\n",
       "      <td>0.2</td>\n",
       "      <td>setosa</td>\n",
       "    </tr>\n",
       "    <tr>\n",
       "      <th>3</th>\n",
       "      <td>4.6</td>\n",
       "      <td>3.1</td>\n",
       "      <td>1.5</td>\n",
       "      <td>0.2</td>\n",
       "      <td>setosa</td>\n",
       "    </tr>\n",
       "    <tr>\n",
       "      <th>4</th>\n",
       "      <td>5.0</td>\n",
       "      <td>3.6</td>\n",
       "      <td>1.4</td>\n",
       "      <td>0.2</td>\n",
       "      <td>setosa</td>\n",
       "    </tr>\n",
       "    <tr>\n",
       "      <th>...</th>\n",
       "      <td>...</td>\n",
       "      <td>...</td>\n",
       "      <td>...</td>\n",
       "      <td>...</td>\n",
       "      <td>...</td>\n",
       "    </tr>\n",
       "    <tr>\n",
       "      <th>145</th>\n",
       "      <td>6.7</td>\n",
       "      <td>3.0</td>\n",
       "      <td>5.2</td>\n",
       "      <td>2.3</td>\n",
       "      <td>virginica</td>\n",
       "    </tr>\n",
       "    <tr>\n",
       "      <th>146</th>\n",
       "      <td>6.3</td>\n",
       "      <td>2.5</td>\n",
       "      <td>5.0</td>\n",
       "      <td>1.9</td>\n",
       "      <td>virginica</td>\n",
       "    </tr>\n",
       "    <tr>\n",
       "      <th>147</th>\n",
       "      <td>6.5</td>\n",
       "      <td>3.0</td>\n",
       "      <td>5.2</td>\n",
       "      <td>2.0</td>\n",
       "      <td>virginica</td>\n",
       "    </tr>\n",
       "    <tr>\n",
       "      <th>148</th>\n",
       "      <td>6.2</td>\n",
       "      <td>3.4</td>\n",
       "      <td>5.4</td>\n",
       "      <td>2.3</td>\n",
       "      <td>virginica</td>\n",
       "    </tr>\n",
       "    <tr>\n",
       "      <th>149</th>\n",
       "      <td>5.9</td>\n",
       "      <td>3.0</td>\n",
       "      <td>5.1</td>\n",
       "      <td>1.8</td>\n",
       "      <td>virginica</td>\n",
       "    </tr>\n",
       "  </tbody>\n",
       "</table>\n",
       "<p>150 rows × 5 columns</p>\n",
       "</div>"
      ],
      "text/plain": [
       "     sepal length (cm)  sepal width (cm)  petal length (cm)  petal width (cm)  \\\n",
       "0                  5.1               3.5                1.4               0.2   \n",
       "1                  4.9               3.0                1.4               0.2   \n",
       "2                  4.7               3.2                1.3               0.2   \n",
       "3                  4.6               3.1                1.5               0.2   \n",
       "4                  5.0               3.6                1.4               0.2   \n",
       "..                 ...               ...                ...               ...   \n",
       "145                6.7               3.0                5.2               2.3   \n",
       "146                6.3               2.5                5.0               1.9   \n",
       "147                6.5               3.0                5.2               2.0   \n",
       "148                6.2               3.4                5.4               2.3   \n",
       "149                5.9               3.0                5.1               1.8   \n",
       "\n",
       "          Name  \n",
       "0       setosa  \n",
       "1       setosa  \n",
       "2       setosa  \n",
       "3       setosa  \n",
       "4       setosa  \n",
       "..         ...  \n",
       "145  virginica  \n",
       "146  virginica  \n",
       "147  virginica  \n",
       "148  virginica  \n",
       "149  virginica  \n",
       "\n",
       "[150 rows x 5 columns]"
      ]
     },
     "execution_count": 15,
     "metadata": {},
     "output_type": "execute_result"
    }
   ],
   "source": [
    "df['Name'] = iris.target_names[iris.target]\n",
    "df"
   ]
  },
  {
   "cell_type": "code",
   "execution_count": 46,
   "metadata": {},
   "outputs": [],
   "source": [
    "from sklearn.model_selection import train_test_split\n",
    "\n",
    "X_train, X_test, y_train, y_test = train_test_split(df, iris.target_names[iris.target], test_size=0.33, random_state=0)\n"
   ]
  },
  {
   "cell_type": "code",
   "execution_count": 47,
   "metadata": {},
   "outputs": [
    {
     "name": "stdout",
     "output_type": "stream",
     "text": [
      "정답률 :  0.98\n"
     ]
    }
   ],
   "source": [
    "clf = svm.SVC()\n",
    "clf.fit(X_train, y_train)\n",
    "pre = clf.predict(X_test)\n",
    "ac_score = metrics.accuracy_score(y_test, pre)\n",
    "\n",
    "print('정답률 : ', ac_score)"
   ]
  },
  {
   "cell_type": "code",
   "execution_count": 34,
   "metadata": {},
   "outputs": [
    {
     "data": {
      "text/plain": [
       "array(['virginica', 'versicolor', 'setosa', 'virginica', 'setosa',\n",
       "       'virginica', 'setosa', 'versicolor', 'versicolor', 'versicolor',\n",
       "       'virginica', 'versicolor', 'versicolor', 'versicolor',\n",
       "       'versicolor', 'setosa', 'versicolor', 'versicolor', 'setosa',\n",
       "       'setosa', 'virginica', 'versicolor', 'setosa', 'setosa',\n",
       "       'virginica', 'setosa', 'setosa', 'versicolor', 'versicolor',\n",
       "       'setosa', 'virginica', 'versicolor', 'setosa', 'virginica',\n",
       "       'virginica', 'versicolor', 'setosa', 'virginica', 'versicolor',\n",
       "       'versicolor', 'virginica', 'setosa', 'virginica', 'setosa',\n",
       "       'setosa', 'versicolor', 'virginica', 'virginica', 'virginica',\n",
       "       'virginica'], dtype='<U10')"
      ]
     },
     "execution_count": 34,
     "metadata": {},
     "output_type": "execute_result"
    }
   ],
   "source": [
    "pre"
   ]
  },
  {
   "cell_type": "code",
   "execution_count": 36,
   "metadata": {},
   "outputs": [
    {
     "data": {
      "text/plain": [
       "array(['virginica', 'versicolor', 'setosa', 'virginica', 'setosa',\n",
       "       'virginica', 'setosa', 'versicolor', 'versicolor', 'versicolor',\n",
       "       'virginica', 'versicolor', 'versicolor', 'versicolor',\n",
       "       'versicolor', 'setosa', 'versicolor', 'versicolor', 'setosa',\n",
       "       'setosa', 'virginica', 'versicolor', 'setosa', 'setosa',\n",
       "       'virginica', 'setosa', 'setosa', 'versicolor', 'versicolor',\n",
       "       'setosa', 'virginica', 'versicolor', 'setosa', 'virginica',\n",
       "       'virginica', 'versicolor', 'setosa', 'versicolor', 'versicolor',\n",
       "       'versicolor', 'virginica', 'setosa', 'virginica', 'setosa',\n",
       "       'setosa', 'versicolor', 'virginica', 'virginica', 'virginica',\n",
       "       'virginica'], dtype='<U10')"
      ]
     },
     "execution_count": 36,
     "metadata": {},
     "output_type": "execute_result"
    }
   ],
   "source": [
    "y_test"
   ]
  },
  {
   "cell_type": "code",
   "execution_count": 49,
   "metadata": {},
   "outputs": [
    {
     "data": {
      "text/plain": [
       "array([ True,  True,  True,  True,  True,  True,  True,  True,  True,\n",
       "        True,  True,  True,  True,  True,  True,  True,  True,  True,\n",
       "        True,  True,  True,  True,  True,  True,  True,  True,  True,\n",
       "        True,  True,  True,  True,  True,  True,  True,  True,  True,\n",
       "        True, False,  True,  True,  True,  True,  True,  True,  True,\n",
       "        True,  True,  True,  True,  True])"
      ]
     },
     "execution_count": 49,
     "metadata": {},
     "output_type": "execute_result"
    }
   ],
   "source": [
    "pre == y_test"
   ]
  },
  {
   "cell_type": "markdown",
   "metadata": {},
   "source": [
    "# SVM을 실제로 사용해보기"
   ]
  },
  {
   "cell_type": "code",
   "execution_count": 65,
   "metadata": {},
   "outputs": [
    {
     "name": "stdout",
     "output_type": "stream",
     "text": [
      "ok {'thin': 6538, 'normal': 5808, 'fat': 7654}\n"
     ]
    }
   ],
   "source": [
    "import random\n",
    "\n",
    "def calc_bmi(h, w):\n",
    "    bmi = w / (h/100) ** 2\n",
    "    if bmi < 18.5:\n",
    "        return \"thin\"\n",
    "    if bmi < 25:\n",
    "        return \"normal\"\n",
    "    return \"fat\"\n",
    "\n",
    "fp = open(\"bmi.csv\", \"w\", encoding=\"utf-8\")\n",
    "fp.write(\"height,weight,label\\r\\n\")\n",
    "\n",
    "cnt = {\"thin\":0, \"normal\":0, \"fat\":0}\n",
    "for i in range(20000):\n",
    "    h = random.randint(120, 200)\n",
    "    w = random.randint(35, 80)\n",
    "    label = calc_bmi(h, w)\n",
    "    cnt[label] += 1\n",
    "    fp.write(\"{0},{1},{2}\\r\\n\".format(h, w, label))\n",
    "fp.close()\n",
    "print(\"ok\", cnt)"
   ]
  },
  {
   "cell_type": "code",
   "execution_count": 71,
   "metadata": {},
   "outputs": [
    {
     "name": "stdout",
     "output_type": "stream",
     "text": [
      "정답률 =  0.9166\n",
      "리포트 =\n",
      "               precision    recall  f1-score   support\n",
      "\n",
      "         fat       0.89      1.00      0.94      1856\n",
      "      normal       1.00      0.72      0.84      1478\n",
      "        thin       0.90      1.00      0.95      1666\n",
      "\n",
      "    accuracy                           0.92      5000\n",
      "   macro avg       0.93      0.91      0.91      5000\n",
      "weighted avg       0.93      0.92      0.91      5000\n",
      "\n"
     ]
    }
   ],
   "source": [
    "from sklearn import svm, metrics\n",
    "from sklearn.model_selection import train_test_split\n",
    "import matplotlib.pyplot as plt\n",
    "import pandas as pd\n",
    "\n",
    "tbl = pd.read_csv(\"bmi.csv\")\n",
    "\n",
    "\n",
    "label = tbl[\"label\"]\n",
    "w = tbl[\"weight\"] / 100\n",
    "h = tbl[\"height\"] / 200\n",
    "\n",
    "wh = pd.concat([w, h], axis=1)\n",
    "\n",
    "data_train, data_test, label_train, label_test = train_test_split(wh, label)\n",
    "\n",
    "# clf = svm.SVC()\n",
    "clf = svm.LinearSVC()\n",
    "clf.fit(data_train, label_train)\n",
    "\n",
    "predict = clf.predict(data_test)\n",
    "\n",
    "ac_score = metrics.accuracy_score(label_test, predict)\n",
    "cl_report = metrics.classification_report(label_test, predict)\n",
    "\n",
    "print(\"정답률 = \", ac_score)\n",
    "print(\"리포트 =\\n\", cl_report)"
   ]
  },
  {
   "cell_type": "code",
   "execution_count": 69,
   "metadata": {},
   "outputs": [
    {
     "data": {
      "image/png": "[encoded data removed]",
      "text/plain": [
       "<Figure size 432x288 with 1 Axes>"
      ]
     },
     "metadata": {
      "needs_background": "light"
     },
     "output_type": "display_data"
    }
   ],
   "source": [
    "import matplotlib.pyplot as plt\n",
    "import pandas as pd\n",
    "\n",
    "tbl = pd.read_csv(\"bmi.csv\", index_col=2)\n",
    "\n",
    "fig = plt.figure()\n",
    "ax = fig.add_subplot(1, 1, 1)\n",
    "\n",
    "def scatter(lbl, color):\n",
    "    b = tbl.loc[lbl]\n",
    "    ax.scatter(b[\"weight\"], b[\"height\"], c=color, label=lbl)\n",
    "\n",
    "scatter(\"fat\", \"red\")\n",
    "scatter(\"normal\", \"yellow\")\n",
    "scatter(\"thin\", \"purple\")\n",
    "\n",
    "ax.legend()\n",
    "plt.savefig(\"bmi-test.png\")\n",
    "plt.show()"
   ]
  },
  {
   "cell_type": "code",
   "execution_count": 70,
   "metadata": {},
   "outputs": [
    {
     "data": {
      "text/plain": [
       "LinearSVC()"
      ]
     },
     "execution_count": 70,
     "metadata": {},
     "output_type": "execute_result"
    }
   ],
   "source": [
    "from sklearn import svm\n",
    "clf = svm.LinearSVC()\n",
    "clf.fit(data_train, label_train)"
   ]
  },
  {
   "cell_type": "markdown",
   "metadata": {},
   "source": [
    "# 랜덤 포레스트"
   ]
  },
  {
   "cell_type": "code",
   "execution_count": 1,
   "metadata": {},
   "outputs": [
    {
     "name": "stdout",
     "output_type": "stream",
     "text": [
      "ok\n"
     ]
    }
   ],
   "source": [
    "import urllib.request as req\n",
    "local = \"mushroom.csv\"\n",
    "url = \"https://archive.ics.uci.edu/ml/machine-learning-databases/mushroom/agaricus-lepiota.data\"\n",
    "req.urlretrieve(url, local)\n",
    "print(\"ok\")"
   ]
  },
  {
   "cell_type": "code",
   "execution_count": 13,
   "metadata": {},
   "outputs": [
    {
     "name": "stdout",
     "output_type": "stream",
     "text": [
      "정답률 =  1.0\n",
      "리포트 =\n",
      "               precision    recall  f1-score   support\n",
      "\n",
      "           e       1.00      1.00      1.00      1042\n",
      "           p       1.00      1.00      1.00       989\n",
      "\n",
      "    accuracy                           1.00      2031\n",
      "   macro avg       1.00      1.00      1.00      2031\n",
      "weighted avg       1.00      1.00      1.00      2031\n",
      "\n"
     ]
    }
   ],
   "source": [
    "import pandas as pd\n",
    "from sklearn.ensemble import RandomForestClassifier\n",
    "from sklearn import metrics\n",
    "from sklearn.model_selection import train_test_split\n",
    "\n",
    "mr = pd.read_csv(\"mushroom.csv\", header=None)\n",
    "\n",
    "label = []\n",
    "data = []\n",
    "attr_list = []\n",
    "\n",
    "for row_index, row in mr.iterrows():\n",
    "    label.append(row[0])\n",
    "    row_data = []\n",
    "    for v in row[1:]:\n",
    "        row_data.append(ord(v))\n",
    "    data.append(row_data)\n",
    "\n",
    "data_train, data_test, label_train, label_test = train_test_split(data, label)\n",
    "clf = RandomForestClassifier()\n",
    "clf.fit(data_train, label_train)\n",
    "\n",
    "predict = clf.predict(data_test)\n",
    "\n",
    "ac_score = metrics.accuracy_score(label_test, predict)\n",
    "cl_report = metrics.classification_report(label_test, predict)\n",
    "\n",
    "print(\"정답률 = \", ac_score)\n",
    "print(\"리포트 =\\n\", cl_report)"
   ]
  },
  {
   "cell_type": "markdown",
   "metadata": {},
   "source": [
    "# Cross Validation"
   ]
  },
  {
   "cell_type": "code",
   "execution_count": 23,
   "metadata": {},
   "outputs": [
    {
     "name": "stdout",
     "output_type": "stream",
     "text": [
      "각각의 정답률= [0.96666667 0.96666667 0.96666667 0.93333333 1.        ]\n",
      "평균 정답률= 0.9666666666666666\n"
     ]
    }
   ],
   "source": [
    "import pandas as pd\n",
    "from sklearn import svm, metrics, model_selection\n",
    "import random, re\n",
    "from sklearn.datasets import load_iris\n",
    "\n",
    "iris = load_iris()\n",
    "\n",
    "clf = svm.SVC()\n",
    "scores = model_selection.cross_val_score(clf, iris.data, iris.target, cv=5)\n",
    "print(\"각각의 정답률=\", scores)\n",
    "print(\"평균 정답률=\", scores.mean())"
   ]
  },
  {
   "cell_type": "markdown",
   "metadata": {},
   "source": [
    "# GridSearchCV"
   ]
  },
  {
   "cell_type": "code",
   "execution_count": 33,
   "metadata": {},
   "outputs": [
    {
     "name": "stdout",
     "output_type": "stream",
     "text": [
      "학습기= SVC(C=1, kernel='linear')\n",
      "정답률: 1.0\n"
     ]
    }
   ],
   "source": [
    "import pandas as pd\n",
    "from sklearn import model_selection, svm, metrics\n",
    "from sklearn.model_selection import GridSearchCV\n",
    "from sklearn.model_selection import train_test_split\n",
    "\n",
    "iris = load_iris()\n",
    "\n",
    "data_train, data_test, label_train, label_test = train_test_split(iris.data, iris.target)\n",
    "\n",
    "params = [\n",
    "    {\"C\":[1, 10, 100, 1000], \"kernel\":[\"linear\"]},\n",
    "    {\"C\":[1, 10, 100, 1000], \"kernel\":[\"rbf\"], \"gamma\":[0.001, 0.0001]}\n",
    "]\n",
    "\n",
    "clf = GridSearchCV(svm.SVC(), params, n_jobs=1)\n",
    "clf.fit(data_train, label_train)\n",
    "print(\"학습기=\", clf.best_estimator_)\n",
    "\n",
    "pre = clf.predict(data_test)\n",
    "ac_score = metrics.accuracy_score(pre, label_test)\n",
    "print(\"정답률:\", ac_score)\n"
   ]
  },
  {
   "cell_type": "code",
   "execution_count": 30,
   "metadata": {},
   "outputs": [
    {
     "name": "stdout",
     "output_type": "stream",
     "text": [
      "absl-py==0.11.0\r\n",
      "alabaster==0.7.12\r\n",
      "anaconda-client==1.7.2\r\n",
      "anaconda-navigator==1.10.0\r\n",
      "anaconda-project==0.8.3\r\n",
      "applaunchservices==0.2.1\r\n",
      "appnope @ file:///opt/concourse/worker/volumes/live/0291c9e1-4b15-459f-623e-2770f55be269/volume/appnope_1594338395037/work\r\n",
      "appscript @ file:///opt/concourse/worker/volumes/live/50ca4c96-3090-40bb-6981-3a6114ed0af4/volume/appscript_1594840187551/work\r\n",
      "argh==0.26.2\r\n",
      "argon2-cffi @ file:///opt/concourse/worker/volumes/live/59af29ac-4890-416e-7ab7-794f8d6f7ecd/volume/argon2-cffi_1596828548321/work\r\n",
      "asn1crypto @ file:///tmp/build/80754af9/asn1crypto_1596577642040/work\r\n",
      "astroid @ file:///opt/concourse/worker/volumes/live/21fd14a9-2a7e-484b-7394-5a9912cdcf80/volume/astroid_1592498459180/work\r\n",
      "astropy==4.0.2\r\n",
      "astunparse==1.6.3\r\n",
      "async-generator==1.10\r\n",
      "atomicwrites==1.4.0\r\n",
      "attrs @ file:///tmp/build/80754af9/attrs_1604765588209/work\r\n",
      "autopep8 @ file:///tmp/build/80754af9/autopep8_1596578164842/work\r\n",
      "Babel @ file:///tmp/build/80754af9/babel_1605108370292/work\r\n",
      "backcall==0.2.0\r\n",
      "backports.functools-lru-cache @ file:///tmp/build/80754af9/backports.functools_lru_cache_1605305165209/work\r\n",
      "backports.shutil-get-terminal-size==1.0.0\r\n",
      "backports.tempfile @ file:///home/linux1/recipes/ci/backports.tempfile_1610991236607/work\r\n",
      "backports.weakref==1.0.post1\r\n",
      "beautifulsoup4 @ file:///tmp/build/80754af9/beautifulsoup4_1601924105527/work\r\n",
      "bitarray @ file:///opt/concourse/worker/volumes/live/fdfca23e-4dd8-48f7-512d-c4f3db552eeb/volume/bitarray_1605065128338/work\r\n",
      "bkcharts==0.2\r\n",
      "bleach @ file:///tmp/build/80754af9/bleach_1600439572647/work\r\n",
      "bokeh @ file:///opt/concourse/worker/volumes/live/b2253281-9b72-4dcb-624e-e22924b50435/volume/bokeh_1603297849453/work\r\n",
      "boto==2.49.0\r\n",
      "Bottleneck==1.3.2\r\n",
      "branca @ file:///home/conda/feedstock_root/build_artifacts/branca_1609346930842/work\r\n",
      "brotlipy==0.7.0\r\n",
      "cachetools==4.2.1\r\n",
      "certifi==2020.6.20\r\n",
      "cffi @ file:///opt/concourse/worker/volumes/live/b9607b09-b777-4ff7-53dc-287727eb8574/volume/cffi_1600699191154/work\r\n",
      "chardet==3.0.4\r\n",
      "click==7.1.2\r\n",
      "cloudpickle @ file:///tmp/build/80754af9/cloudpickle_1598884132938/work\r\n",
      "clyent==1.2.2\r\n",
      "colorama @ file:///tmp/build/80754af9/colorama_1603211150991/work\r\n",
      "conda==4.9.2\r\n",
      "conda-build==3.20.5\r\n",
      "conda-package-handling @ file:///opt/concourse/worker/volumes/live/a7e34989-4c54-4cb6-4156-4e58ee270730/volume/conda-package-handling_1603018121300/work\r\n",
      "conda-verify==3.4.2\r\n",
      "confuse @ file:///tmp/build/80754af9/confuse_1605996072997/work\r\n",
      "contextlib2==0.6.0.post1\r\n",
      "cryptography @ file:///opt/concourse/worker/volumes/live/aeb63a26-659e-4edb-5405-74ba8e0c76f2/volume/cryptography_1601046839724/work\r\n",
      "cvxopt==1.2.0\r\n",
      "cycler==0.10.0\r\n",
      "Cython @ file:///opt/concourse/worker/volumes/live/6158b663-a4ca-4e19-7e05-8807e4f79146/volume/cython_1594835048880/work\r\n",
      "cytoolz==0.11.0\r\n",
      "dask @ file:///tmp/build/80754af9/dask-core_1602083700509/work\r\n",
      "decorator==4.4.2\r\n",
      "defusedxml==0.6.0\r\n",
      "diff-match-patch @ file:///tmp/build/80754af9/diff-match-patch_1594828741838/work\r\n",
      "distributed @ file:///opt/concourse/worker/volumes/live/bd66aa48-5cf5-4b60-6ed4-f204fff153f6/volume/distributed_1605066538557/work\r\n",
      "docutils==0.16\r\n",
      "entrypoints==0.3\r\n",
      "et-xmlfile==1.0.1\r\n",
      "fastcache==1.1.0\r\n",
      "filelock==3.0.12\r\n",
      "flake8 @ file:///tmp/build/80754af9/flake8_1601911421857/work\r\n",
      "Flask==1.1.2\r\n",
      "flatbuffers==1.12\r\n",
      "folium @ file:///home/conda/feedstock_root/build_artifacts/folium_1609967009544/work\r\n",
      "fsspec @ file:///tmp/build/80754af9/fsspec_1602684995936/work\r\n",
      "future==0.18.2\r\n",
      "gast==0.3.3\r\n",
      "gevent @ file:///opt/concourse/worker/volumes/live/e6b243ce-c4b8-40bb-4934-ef3bf1c512f2/volume/gevent_1601397552921/work\r\n",
      "glob2==0.7\r\n",
      "gmpy2==2.0.8\r\n",
      "google-auth==1.27.0\r\n",
      "google-auth-oauthlib==0.4.2\r\n",
      "google-pasta==0.2.0\r\n",
      "greenlet @ file:///opt/concourse/worker/volumes/live/02d5d57d-1f11-4cf9-580a-19e679c78dc9/volume/greenlet_1600874049903/work\r\n",
      "grpcio==1.32.0\r\n",
      "h5py==2.10.0\r\n",
      "HeapDict==1.0.1\r\n",
      "html5lib @ file:///tmp/build/80754af9/html5lib_1593446221756/work\r\n",
      "htmlmin @ file:///tmp/build/80754af9/htmlmin_1605825795554/work\r\n",
      "idna @ file:///tmp/build/80754af9/idna_1593446292537/work\r\n",
      "ImageHash @ file:///tmp/build/80754af9/imagehash_1605822121897/work\r\n",
      "imageio @ file:///tmp/build/80754af9/imageio_1594161405741/work\r\n",
      "imagesize==1.2.0\r\n",
      "importlib-metadata @ file:///tmp/build/80754af9/importlib-metadata_1602276842396/work\r\n",
      "iniconfig @ file:///tmp/build/80754af9/iniconfig_1602780191262/work\r\n",
      "intervaltree @ file:///tmp/build/80754af9/intervaltree_1598376443606/work\r\n",
      "ipykernel @ file:///opt/concourse/worker/volumes/live/88f541d3-5a27-498f-7391-f2e50ca36560/volume/ipykernel_1596206680118/work/dist/ipykernel-5.3.4-py3-none-any.whl\r\n",
      "ipython @ file:///opt/concourse/worker/volumes/live/26969e8f-c9f7-42dc-6ffb-b3effd424c49/volume/ipython_1604101242376/work\r\n",
      "ipython-genutils==0.2.0\r\n",
      "ipywidgets @ file:///tmp/build/80754af9/ipywidgets_1601490159889/work\r\n",
      "isort @ file:///tmp/build/80754af9/isort_1602603989581/work\r\n",
      "itsdangerous==1.1.0\r\n",
      "jdcal==1.4.1\r\n",
      "jedi @ file:///opt/concourse/worker/volumes/live/1c5c293b-9147-4b4b-5a7f-d3f5eddb8470/volume/jedi_1592841952519/work\r\n",
      "Jinja2==2.11.2\r\n",
      "joblib @ file:///tmp/build/80754af9/joblib_1601912903842/work\r\n",
      "json5==0.9.5\r\n",
      "jsonschema @ file:///tmp/build/80754af9/jsonschema_1602607155483/work\r\n",
      "jupyter==1.0.0\r\n",
      "jupyter-client @ file:///tmp/build/80754af9/jupyter_client_1601311786391/work\r\n",
      "jupyter-console @ file:///tmp/build/80754af9/jupyter_console_1598884538475/work\r\n",
      "jupyter-contrib-core==0.3.3\r\n",
      "jupyter-contrib-nbextensions @ file:///Users/runner/miniforge3/conda-bld/jupyter_contrib_nbextensions_1602805472999/work\r\n",
      "jupyter-core==4.6.3\r\n",
      "jupyter-highlight-selected-word @ file:///Users/runner/miniforge3/conda-bld/jupyter_highlight_selected_word_1611341029944/work\r\n",
      "jupyter-latex-envs @ file:///Users/runner/miniforge3/conda-bld/jupyter_latex_envs_1602788808989/work\r\n",
      "jupyter-nbextensions-configurator @ file:///Users/runner/miniforge3/conda-bld/jupyter_nbextensions_configurator_1611341144578/work\r\n",
      "jupyterlab==2.2.6\r\n",
      "jupyterlab-pygments @ file:///tmp/build/80754af9/jupyterlab_pygments_1601490720602/work\r\n",
      "jupyterlab-server @ file:///tmp/build/80754af9/jupyterlab_server_1594164409481/work\r\n",
      "Keras==2.4.3\r\n",
      "Keras-Preprocessing==1.1.2\r\n",
      "keyring @ file:///opt/concourse/worker/volumes/live/54fc3ec2-338b-44f5-5e13-d62afa6b5820/volume/keyring_1601490916376/work\r\n",
      "kiwisolver @ file:///opt/concourse/worker/volumes/live/b8936fa6-0e4b-47e7-4fb4-e02dbd4505ee/volume/kiwisolver_1604014598721/work\r\n",
      "lazy-object-proxy==1.4.3\r\n",
      "libarchive-c==2.9\r\n",
      "llvmlite==0.34.0\r\n",
      "locket==0.2.0\r\n",
      "lxml @ file:///opt/concourse/worker/volumes/live/9351a723-931c-40fa-7baa-f2f468cdccf6/volume/lxml_1603216287330/work\r\n",
      "Markdown==3.3.4\r\n",
      "MarkupSafe @ file:///opt/concourse/worker/volumes/live/cb778296-98db-45ad-411e-6f726e102dc3/volume/markupsafe_1594371638608/work\r\n",
      "matplotlib @ file:///opt/concourse/worker/volumes/live/f7797860-f8aa-410c-4a56-72315954816b/volume/matplotlib-base_1603378002957/work\r\n",
      "mccabe==0.6.1\r\n",
      "missingno==0.4.2\r\n",
      "mistune @ file:///opt/concourse/worker/volumes/live/95802d64-d39c-491b-74ce-b9326880ca54/volume/mistune_1594373201816/work\r\n",
      "mkl-fft==1.2.0\r\n",
      "mkl-random==1.1.1\r\n",
      "mkl-service==2.3.0\r\n",
      "mock==4.0.2\r\n",
      "more-itertools @ file:///tmp/build/80754af9/more-itertools_1605111547926/work\r\n",
      "mpl-finance==0.10.1\r\n",
      "mpmath==1.1.0\r\n",
      "msgpack==1.0.0\r\n",
      "multipledispatch==0.6.0\r\n",
      "navigator-updater==0.2.1\r\n",
      "nb-conda==2.2.1\r\n",
      "nb-conda-kernels @ file:///opt/concourse/worker/volumes/live/82c137e0-23e6-475b-7bb1-19e036b0f8ea/volume/nb_conda_kernels_1606775964383/work\r\n",
      "nbclient @ file:///tmp/build/80754af9/nbclient_1602783176460/work\r\n",
      "nbconvert @ file:///opt/concourse/worker/volumes/live/2b9c1d93-d0fd-432f-7d93-66c93d81b614/volume/nbconvert_1601914875037/work\r\n",
      "nbformat @ file:///tmp/build/80754af9/nbformat_1602783287752/work\r\n",
      "nest-asyncio @ file:///tmp/build/80754af9/nest-asyncio_1605115881283/work\r\n",
      "networkx @ file:///tmp/build/80754af9/networkx_1598376031484/work\r\n",
      "nltk @ file:///tmp/build/80754af9/nltk_1592496090529/work\r\n",
      "nose @ file:///opt/concourse/worker/volumes/live/a029938e-1732-4cd8-5b98-0542283d158b/volume/nose_1594377915100/work\r\n",
      "notebook @ file:///opt/concourse/worker/volumes/live/be0f3504-189d-4bae-4e57-c5d6da73ffcd/volume/notebook_1601501605350/work\r\n",
      "numba @ file:///opt/concourse/worker/volumes/live/ae24c1ca-d916-4043-5919-a843fa33e451/volume/numba_1600084276085/work\r\n",
      "numexpr==2.7.1\r\n",
      "numpy @ file:///opt/concourse/worker/volumes/live/5572694e-967a-4c0c-52cf-b53d43e72de9/volume/numpy_and_numpy_base_1603491881791/work\r\n",
      "numpydoc @ file:///tmp/build/80754af9/numpydoc_1605117425582/work\r\n",
      "oauthlib==3.1.0\r\n",
      "olefile==0.46\r\n",
      "openpyxl @ file:///tmp/build/80754af9/openpyxl_1598113097404/work\r\n",
      "opt-einsum==3.3.0\r\n",
      "packaging==20.4\r\n",
      "pandas @ file:///opt/concourse/worker/volumes/live/f14cf8c4-c564-4eff-4b17-158e90dbf88a/volume/pandas_1602088128240/work\r\n",
      "pandas-profiling @ file:///home/conda/feedstock_root/build_artifacts/pandas-profiling_1612745102730/work\r\n",
      "pandocfilters @ file:///opt/concourse/worker/volumes/live/c330e404-216d-466b-5327-8ce8fe854d3a/volume/pandocfilters_1605120442288/work\r\n",
      "parso==0.7.0\r\n",
      "partd==1.1.0\r\n",
      "path @ file:///opt/concourse/worker/volumes/live/fcdf620c-46d6-4284-4c1e-5b8c3bc6c5c6/volume/path_1596907417277/work\r\n",
      "pathlib2 @ file:///opt/concourse/worker/volumes/live/de518564-0d9f-405e-472b-38136f0c2169/volume/pathlib2_1594381084269/work\r\n",
      "pathtools==0.1.2\r\n",
      "patsy==0.5.1\r\n",
      "pep8==1.7.1\r\n",
      "pexpect @ file:///opt/concourse/worker/volumes/live/8701bb20-ad87-46c7-5108-30c178cf97e5/volume/pexpect_1594383388344/work\r\n",
      "pgmpy==0.1.14\r\n",
      "phik @ file:///tmp/build/80754af9/phik_1612290966842/work\r\n",
      "pickleshare @ file:///opt/concourse/worker/volumes/live/93ec39d8-05bb-4f84-7efc-98735bc39b70/volume/pickleshare_1594384101884/work\r\n",
      "Pillow @ file:///opt/concourse/worker/volumes/live/991b9a87-3372-4acd-45f9-eaa52701f03c/volume/pillow_1603822262543/work\r\n",
      "pkginfo==1.6.1\r\n",
      "plotly @ file:///tmp/build/80754af9/plotly_1610565580232/work\r\n",
      "pluggy==0.13.1\r\n",
      "ply==3.11\r\n",
      "prometheus-client==0.8.0\r\n",
      "prompt-toolkit @ file:///tmp/build/80754af9/prompt-toolkit_1602688806899/work\r\n",
      "protobuf==3.15.3\r\n",
      "psutil @ file:///opt/concourse/worker/volumes/live/ff72f822-991c-4030-4f3a-8c41d3ac4e4f/volume/psutil_1598370232375/work\r\n",
      "ptyprocess==0.6.0\r\n",
      "py @ file:///tmp/build/80754af9/py_1593446248552/work\r\n",
      "pyasn1==0.4.8\r\n",
      "pyasn1-modules==0.2.8\r\n",
      "pycodestyle==2.6.0\r\n",
      "pycosat==0.6.3\r\n",
      "pycparser @ file:///tmp/build/80754af9/pycparser_1594388511720/work\r\n",
      "pycurl==7.43.0.6\r\n",
      "pydocstyle @ file:///tmp/build/80754af9/pydocstyle_1598885001695/work\r\n",
      "pyflakes==2.2.0\r\n",
      "Pygments @ file:///tmp/build/80754af9/pygments_1604103097372/work\r\n",
      "pylint @ file:///opt/concourse/worker/volumes/live/ed0164b6-bcc7-4f6b-7dd4-ad89660b5dcb/volume/pylint_1598624018129/work\r\n",
      "pyodbc===4.0.0-unsupported\r\n",
      "pyOpenSSL @ file:///tmp/build/80754af9/pyopenssl_1594392929924/work\r\n",
      "pyparsing==2.4.7\r\n",
      "pyrsistent @ file:///opt/concourse/worker/volumes/live/ff11f3f0-615b-4508-471d-4d9f19fa6657/volume/pyrsistent_1600141727281/work\r\n",
      "PySocks @ file:///opt/concourse/worker/volumes/live/85a5b906-0e08-41d9-6f59-084cee4e9492/volume/pysocks_1594394636991/work\r\n",
      "pytest==0.0.0\r\n",
      "python-dateutil==2.8.1\r\n",
      "python-jsonrpc-server @ file:///tmp/build/80754af9/python-jsonrpc-server_1600278539111/work\r\n",
      "python-language-server @ file:///tmp/build/80754af9/python-language-server_1600454544709/work\r\n",
      "pytz==2020.1\r\n",
      "PyWavelets @ file:///opt/concourse/worker/volumes/live/ea36e10f-66e8-43ae-511e-c4092764493f/volume/pywavelets_1601658378672/work\r\n",
      "PyYAML==5.3.1\r\n",
      "pyzmq==19.0.2\r\n",
      "QDarkStyle==2.8.1\r\n",
      "QtAwesome @ file:///tmp/build/80754af9/qtawesome_1602272867890/work\r\n",
      "qtconsole @ file:///tmp/build/80754af9/qtconsole_1600870028330/work\r\n",
      "QtPy==1.9.0\r\n",
      "regex @ file:///opt/concourse/worker/volumes/live/7f106f75-0e11-45be-4c20-6b071e37c646/volume/regex_1602786678165/work\r\n",
      "requests @ file:///tmp/build/80754af9/requests_1592841827918/work\r\n",
      "requests-oauthlib==1.3.0\r\n",
      "retrying==1.3.3\r\n",
      "rope @ file:///tmp/build/80754af9/rope_1602264064449/work\r\n",
      "rsa==4.7.2\r\n",
      "Rtree==0.9.4\r\n",
      "ruamel-yaml==0.15.87\r\n",
      "scikit-image==0.17.2\r\n",
      "scikit-learn @ file:///opt/concourse/worker/volumes/live/111833a2-339b-4578-413b-7337bb8fe64a/volume/scikit-learn_1598376920601/work\r\n",
      "scipy @ file:///opt/concourse/worker/volumes/live/851446f6-a052-41c4-4243-67bb78999b49/volume/scipy_1604596178167/work\r\n",
      "seaborn @ file:///home/conda/feedstock_root/build_artifacts/seaborn-split_1611834504644/work\r\n",
      "Send2Trash==1.5.0\r\n",
      "simplegeneric==0.8.1\r\n",
      "singledispatch @ file:///tmp/build/80754af9/singledispatch_1602523705405/work\r\n",
      "six @ file:///opt/concourse/worker/volumes/live/5b31cb27-1e37-4ca5-6e9f-86246eb206d2/volume/six_1605205320872/work\r\n",
      "sklearn==0.0\r\n",
      "snowballstemmer==2.0.0\r\n",
      "sortedcollections==1.2.1\r\n",
      "sortedcontainers==2.2.2\r\n",
      "soupsieve==2.0.1\r\n",
      "Sphinx @ file:///tmp/build/80754af9/sphinx_1597428793432/work\r\n",
      "sphinxcontrib-applehelp==1.0.2\r\n",
      "sphinxcontrib-devhelp==1.0.2\r\n",
      "sphinxcontrib-htmlhelp==1.0.3\r\n",
      "sphinxcontrib-jsmath==1.0.1\r\n",
      "sphinxcontrib-qthelp==1.0.3\r\n",
      "sphinxcontrib-serializinghtml==1.1.4\r\n",
      "sphinxcontrib-websupport @ file:///tmp/build/80754af9/sphinxcontrib-websupport_1597081412696/work\r\n",
      "spyder @ file:///opt/concourse/worker/volumes/live/93f52c11-6bc0-49a8-541e-aa5e1de1eadc/volume/spyder_1599056974853/work\r\n",
      "spyder-kernels @ file:///opt/concourse/worker/volumes/live/b4ec5b57-5b3c-42d0-7731-c0691f88ee81/volume/spyder-kernels_1599056790993/work\r\n",
      "SQLAlchemy @ file:///opt/concourse/worker/volumes/live/0214475e-3c0a-49a9-6cb8-ab2d5c945bef/volume/sqlalchemy_1603812264100/work\r\n",
      "statsmodels @ file:///opt/concourse/worker/volumes/live/148a0e6d-2163-4103-6ef5-61556693c052/volume/statsmodels_1602280229372/work\r\n",
      "sympy @ file:///opt/concourse/worker/volumes/live/d5d0b33b-5c2f-493b-5b67-8149e5531868/volume/sympy_1605119535834/work\r\n",
      "tables==3.6.1\r\n",
      "tangled-up-in-unicode @ file:///tmp/build/80754af9/tangled-up-in-unicode_1605812994067/work\r\n",
      "tblib @ file:///tmp/build/80754af9/tblib_1597928476713/work\r\n",
      "tensorboard==2.4.1\r\n",
      "tensorboard-plugin-wit==1.8.0\r\n",
      "tensorflow==2.4.1\r\n",
      "tensorflow-estimator==2.4.0\r\n",
      "termcolor==1.1.0\r\n",
      "terminado==0.9.1\r\n",
      "testpath==0.4.4\r\n",
      "threadpoolctl @ file:///tmp/tmp9twdgx9k/threadpoolctl-2.1.0-py3-none-any.whl\r\n",
      "tifffile==2020.10.1\r\n",
      "toml @ file:///tmp/build/80754af9/toml_1592853716807/work\r\n",
      "toolz @ file:///tmp/build/80754af9/toolz_1601054250827/work\r\n",
      "torch==1.8.1\r\n",
      "tornado==6.0.4\r\n",
      "tqdm @ file:///tmp/build/80754af9/tqdm_1602185206534/work\r\n",
      "traitlets @ file:///tmp/build/80754af9/traitlets_1602787416690/work\r\n",
      "typing-extensions @ file:///tmp/build/80754af9/typing_extensions_1598376058250/work\r\n",
      "ujson @ file:///opt/concourse/worker/volumes/live/2fc9988c-ebca-4577-6c4b-7383ea76e8ee/volume/ujson_1602523306974/work\r\n",
      "unicodecsv==0.14.1\r\n",
      "urllib3 @ file:///tmp/build/80754af9/urllib3_1603305693037/work\r\n",
      "visions @ file:///home/conda/feedstock_root/build_artifacts/visions_1600915384170/work\r\n",
      "watchdog @ file:///opt/concourse/worker/volumes/live/cc0ee7bb-1065-44c4-5867-0fd5d13729e0/volume/watchdog_1593447373245/work\r\n",
      "wcwidth @ file:///tmp/build/80754af9/wcwidth_1593447189090/work\r\n",
      "webencodings==0.5.1\r\n",
      "Werkzeug==1.0.1\r\n",
      "widgetsnbextension==3.5.1\r\n",
      "wordcloud @ file:///Users/runner/miniforge3/conda-bld/wordcloud_1610647009968/work\r\n",
      "wrapt==1.12.1\r\n",
      "wurlitzer @ file:///opt/concourse/worker/volumes/live/01a17f3d-eafe-4806-57a1-4b9ef5d1815f/volume/wurlitzer_1594753845129/work\r\n",
      "xlrd==1.2.0\r\n",
      "XlsxWriter @ file:///tmp/build/80754af9/xlsxwriter_1602692860603/work\r\n",
      "xlwings==0.20.8\r\n",
      "xlwt==1.3.0\r\n",
      "xmltodict==0.12.0\r\n",
      "yapf @ file:///tmp/build/80754af9/yapf_1593528177422/work\r\n",
      "zict==2.0.0\r\n",
      "zipp @ file:///tmp/build/80754af9/zipp_1604001098328/work\r\n",
      "zope.event==4.5.0\r\n",
      "zope.interface @ file:///opt/concourse/worker/volumes/live/de428e3b-00ba-4161-442e-b9e5d25e4219/volume/zope.interface_1602002489816/work\r\n"
     ]
    },
    {
     "name": "stdout",
     "output_type": "stream",
     "text": [
      "Note: you may need to restart the kernel to use updated packages.\n"
     ]
    }
   ],
   "source": [
    "pip freeze"
   ]
  }
 ],
 "metadata": {
  "kernelspec": {
   "display_name": "Python 3",
   "language": "python",
   "name": "python3"
  },
  "language_info": {
   "codemirror_mode": {
    "name": "ipython",
    "version": 3
   },
   "file_extension": ".py",
   "mimetype": "text/x-python",
   "name": "python",
   "nbconvert_exporter": "python",
   "pygments_lexer": "ipython3",
   "version": "3.8.5"
  },
  "toc": {
   "base_numbering": 1,
   "nav_menu": {},
   "number_sections": true,
   "sideBar": true,
   "skip_h1_title": false,
   "title_cell": "Table of Contents",
   "title_sidebar": "Contents",
   "toc_cell": false,
   "toc_position": {},
   "toc_section_display": true,
   "toc_window_display": false
  },
  "varInspector": {
   "cols": {
    "lenName": 16,
    "lenType": 16,
    "lenVar": 40
   },
   "kernels_config": {
    "python": {
     "delete_cmd_postfix": "",
     "delete_cmd_prefix": "del ",
     "library": "var_list.py",
     "varRefreshCmd": "print(var_dic_list())"
    },
    "r": {
     "delete_cmd_postfix": ") ",
     "delete_cmd_prefix": "rm(",
     "library": "var_list.r",
     "varRefreshCmd": "cat(var_dic_list()) "
    }
   },
   "types_to_exclude": [
    "module",
    "function",
    "builtin_function_or_method",
    "instance",
    "_Feature"
   ],
   "window_display": false
  }
 },
 "nbformat": 4,
 "nbformat_minor": 4
}
