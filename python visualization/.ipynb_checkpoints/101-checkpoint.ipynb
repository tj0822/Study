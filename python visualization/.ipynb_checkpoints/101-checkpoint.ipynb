{
 "cells": [
  {
   "cell_type": "code",
   "execution_count": 1,
   "metadata": {},
   "outputs": [
    {
     "name": "stdout",
     "output_type": "stream",
     "text": [
      "   Unnamed: 0 Bib              Name  Age M/F           City State Country  \\\n",
      "0           0  11   Kirui, Geoffrey   24   M       Keringet   NaN     KEN   \n",
      "1           1  17       Rupp, Galen   30   M       Portland    OR     USA   \n",
      "2           2  23     Osako, Suguru   25   M   Machida-City   NaN     JPN   \n",
      "3           3  21  Biwott, Shadrack   32   M  Mammoth Lakes    CA     USA   \n",
      "4           4   9    Chebet, Wilson   31   M       Marakwet   NaN     KEN   \n",
      "\n",
      "  Citizen Unnamed: 9  ...      25K      30K      35K      40K     Pace  \\\n",
      "0     NaN        NaN  ...  1:16:59  1:33:01  1:48:19  2:02:53  0:04:57   \n",
      "1     NaN        NaN  ...  1:16:59  1:33:01  1:48:19  2:03:14  0:04:58   \n",
      "2     NaN        NaN  ...  1:17:00  1:33:01  1:48:31  2:03:38  0:04:59   \n",
      "3     NaN        NaN  ...  1:17:00  1:33:01  1:48:58  2:04:35  0:05:03   \n",
      "4     NaN        NaN  ...  1:16:59  1:33:01  1:48:41  2:05:00  0:05:04   \n",
      "\n",
      "  Proj Time Official Time Overall Gender Division  \n",
      "0         -       2:09:37       1      1        1  \n",
      "1         -       2:09:58       2      2        2  \n",
      "2         -       2:10:28       3      3        3  \n",
      "3         -       2:12:08       4      4        4  \n",
      "4         -       2:12:35       5      5        5  \n",
      "\n",
      "[5 rows x 25 columns]\n",
      "<class 'pandas.core.frame.DataFrame'>\n",
      "RangeIndex: 26410 entries, 0 to 26409\n",
      "Data columns (total 25 columns):\n",
      " #   Column         Non-Null Count  Dtype \n",
      "---  ------         --------------  ----- \n",
      " 0   Unnamed: 0     26410 non-null  int64 \n",
      " 1   Bib            26410 non-null  object\n",
      " 2   Name           26410 non-null  object\n",
      " 3   Age            26410 non-null  int64 \n",
      " 4   M/F            26410 non-null  object\n",
      " 5   City           26410 non-null  object\n",
      " 6   State          22815 non-null  object\n",
      " 7   Country        26410 non-null  object\n",
      " 8   Citizen        1254 non-null   object\n",
      " 9   Unnamed: 9     91 non-null     object\n",
      " 10  5K             26410 non-null  object\n",
      " 11  10K            26410 non-null  object\n",
      " 12  15K            26410 non-null  object\n",
      " 13  20K            26410 non-null  object\n",
      " 14  Half           26410 non-null  object\n",
      " 15  25K            26410 non-null  object\n",
      " 16  30K            26410 non-null  object\n",
      " 17  35K            26410 non-null  object\n",
      " 18  40K            26410 non-null  object\n",
      " 19  Pace           26410 non-null  object\n",
      " 20  Proj Time      26410 non-null  object\n",
      " 21  Official Time  26410 non-null  object\n",
      " 22  Overall        26410 non-null  int64 \n",
      " 23  Gender         26410 non-null  int64 \n",
      " 24  Division       26410 non-null  int64 \n",
      "dtypes: int64(5), object(20)\n",
      "memory usage: 5.0+ MB\n",
      "None\n"
     ]
    }
   ],
   "source": [
    "# Import pandas as a alias 'pd'\n",
    "import pandas as pd\n",
    "\n",
    "# Load the CSV file \"marathon_results_2017.csv\" under \"data\" folder\n",
    "marathon_2017 = pd.read_csv(\"data/marathon_results_2017.csv\")\n",
    "\n",
    "# Display the first five initial rows using the .head() method\n",
    "print(marathon_2017.head())\n",
    "\n",
    "# Display data frame structure using the .info() method\n",
    "print(marathon_2017.info())"
   ]
  },
  {
   "cell_type": "code",
   "execution_count": null,
   "metadata": {},
   "outputs": [],
   "source": []
  }
 ],
 "metadata": {
  "kernelspec": {
   "display_name": "Python 3",
   "language": "python",
   "name": "python3"
  },
  "language_info": {
   "codemirror_mode": {
    "name": "ipython",
    "version": 3
   },
   "file_extension": ".py",
   "mimetype": "text/x-python",
   "name": "python",
   "nbconvert_exporter": "python",
   "pygments_lexer": "ipython3",
   "version": "3.8.5"
  }
 },
 "nbformat": 4,
 "nbformat_minor": 4
}
