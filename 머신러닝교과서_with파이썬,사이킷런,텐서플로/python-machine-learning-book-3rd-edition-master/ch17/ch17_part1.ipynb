{
  "nbformat": 4,
  "nbformat_minor": 0,
  "metadata": {
    "accelerator": "GPU",
    "colab": {
      "name": "ch17-basic-GAN.ipynb",
      "provenance": [],
      "collapsed_sections": []
    },
    "kernelspec": {
      "display_name": "Python 3",
      "language": "python",
      "name": "python3"
    },
    "language_info": {
      "codemirror_mode": {
        "name": "ipython",
        "version": 3
      },
      "file_extension": ".py",
      "mimetype": "text/x-python",
      "name": "python",
      "nbconvert_exporter": "python",
      "pygments_lexer": "ipython3",
      "version": "3.7.3"
    },
    "widgets": {
      "application/vnd.jupyter.widget-state+json": {
        "6fa589f5be9e49138ca6d181af7a3895": {
          "model_module": "@jupyter-widgets/controls",
          "model_name": "HBoxModel",
          "state": {
            "_view_name": "HBoxView",
            "_dom_classes": [],
            "_model_name": "HBoxModel",
            "_view_module": "@jupyter-widgets/controls",
            "_model_module_version": "1.5.0",
            "_view_count": null,
            "_view_module_version": "1.5.0",
            "box_style": "",
            "layout": "IPY_MODEL_b24de2c3e270499d89f390c981c100e4",
            "_model_module": "@jupyter-widgets/controls",
            "children": [
              "IPY_MODEL_2fc41da1588c411f95fe24aeeb1307e3",
              "IPY_MODEL_ed320ce228f14f9898c071cf90c6ed31"
            ]
          }
        },
        "b24de2c3e270499d89f390c981c100e4": {
          "model_module": "@jupyter-widgets/base",
          "model_name": "LayoutModel",
          "state": {
            "_view_name": "LayoutView",
            "grid_template_rows": null,
            "right": null,
            "justify_content": null,
            "_view_module": "@jupyter-widgets/base",
            "overflow": null,
            "_model_module_version": "1.2.0",
            "_view_count": null,
            "flex_flow": null,
            "width": null,
            "min_width": null,
            "border": null,
            "align_items": null,
            "bottom": null,
            "_model_module": "@jupyter-widgets/base",
            "top": null,
            "grid_column": null,
            "overflow_y": null,
            "overflow_x": null,
            "grid_auto_flow": null,
            "grid_area": null,
            "grid_template_columns": null,
            "flex": null,
            "_model_name": "LayoutModel",
            "justify_items": null,
            "grid_row": null,
            "max_height": null,
            "align_content": null,
            "visibility": null,
            "align_self": null,
            "height": null,
            "min_height": null,
            "padding": null,
            "grid_auto_rows": null,
            "grid_gap": null,
            "max_width": null,
            "order": null,
            "_view_module_version": "1.2.0",
            "grid_template_areas": null,
            "object_position": null,
            "object_fit": null,
            "grid_auto_columns": null,
            "margin": null,
            "display": null,
            "left": null
          }
        },
        "2fc41da1588c411f95fe24aeeb1307e3": {
          "model_module": "@jupyter-widgets/controls",
          "model_name": "FloatProgressModel",
          "state": {
            "_view_name": "ProgressView",
            "style": "IPY_MODEL_632c259287034bebbcc07cdefd926876",
            "_dom_classes": [],
            "description": "Dl Completed...: 100%",
            "_model_name": "FloatProgressModel",
            "bar_style": "success",
            "max": 4,
            "_view_module": "@jupyter-widgets/controls",
            "_model_module_version": "1.5.0",
            "value": 4,
            "_view_count": null,
            "_view_module_version": "1.5.0",
            "orientation": "horizontal",
            "min": 0,
            "description_tooltip": null,
            "_model_module": "@jupyter-widgets/controls",
            "layout": "IPY_MODEL_0c089a383f204c078f32ababee686730"
          }
        },
        "ed320ce228f14f9898c071cf90c6ed31": {
          "model_module": "@jupyter-widgets/controls",
          "model_name": "HTMLModel",
          "state": {
            "_view_name": "HTMLView",
            "style": "IPY_MODEL_084342a9648c4f079defcb543f373278",
            "_dom_classes": [],
            "description": "",
            "_model_name": "HTMLModel",
            "placeholder": "​",
            "_view_module": "@jupyter-widgets/controls",
            "_model_module_version": "1.5.0",
            "value": " 4/4 [57:40&lt;00:00, 865.09s/ file]",
            "_view_count": null,
            "_view_module_version": "1.5.0",
            "description_tooltip": null,
            "_model_module": "@jupyter-widgets/controls",
            "layout": "IPY_MODEL_c2e9415e42f24d09b8e802dc5d83727b"
          }
        },
        "632c259287034bebbcc07cdefd926876": {
          "model_module": "@jupyter-widgets/controls",
          "model_name": "ProgressStyleModel",
          "state": {
            "_view_name": "StyleView",
            "_model_name": "ProgressStyleModel",
            "description_width": "initial",
            "_view_module": "@jupyter-widgets/base",
            "_model_module_version": "1.5.0",
            "_view_count": null,
            "_view_module_version": "1.2.0",
            "bar_color": null,
            "_model_module": "@jupyter-widgets/controls"
          }
        },
        "0c089a383f204c078f32ababee686730": {
          "model_module": "@jupyter-widgets/base",
          "model_name": "LayoutModel",
          "state": {
            "_view_name": "LayoutView",
            "grid_template_rows": null,
            "right": null,
            "justify_content": null,
            "_view_module": "@jupyter-widgets/base",
            "overflow": null,
            "_model_module_version": "1.2.0",
            "_view_count": null,
            "flex_flow": null,
            "width": null,
            "min_width": null,
            "border": null,
            "align_items": null,
            "bottom": null,
            "_model_module": "@jupyter-widgets/base",
            "top": null,
            "grid_column": null,
            "overflow_y": null,
            "overflow_x": null,
            "grid_auto_flow": null,
            "grid_area": null,
            "grid_template_columns": null,
            "flex": null,
            "_model_name": "LayoutModel",
            "justify_items": null,
            "grid_row": null,
            "max_height": null,
            "align_content": null,
            "visibility": null,
            "align_self": null,
            "height": null,
            "min_height": null,
            "padding": null,
            "grid_auto_rows": null,
            "grid_gap": null,
            "max_width": null,
            "order": null,
            "_view_module_version": "1.2.0",
            "grid_template_areas": null,
            "object_position": null,
            "object_fit": null,
            "grid_auto_columns": null,
            "margin": null,
            "display": null,
            "left": null
          }
        },
        "084342a9648c4f079defcb543f373278": {
          "model_module": "@jupyter-widgets/controls",
          "model_name": "DescriptionStyleModel",
          "state": {
            "_view_name": "StyleView",
            "_model_name": "DescriptionStyleModel",
            "description_width": "",
            "_view_module": "@jupyter-widgets/base",
            "_model_module_version": "1.5.0",
            "_view_count": null,
            "_view_module_version": "1.2.0",
            "_model_module": "@jupyter-widgets/controls"
          }
        },
        "c2e9415e42f24d09b8e802dc5d83727b": {
          "model_module": "@jupyter-widgets/base",
          "model_name": "LayoutModel",
          "state": {
            "_view_name": "LayoutView",
            "grid_template_rows": null,
            "right": null,
            "justify_content": null,
            "_view_module": "@jupyter-widgets/base",
            "overflow": null,
            "_model_module_version": "1.2.0",
            "_view_count": null,
            "flex_flow": null,
            "width": null,
            "min_width": null,
            "border": null,
            "align_items": null,
            "bottom": null,
            "_model_module": "@jupyter-widgets/base",
            "top": null,
            "grid_column": null,
            "overflow_y": null,
            "overflow_x": null,
            "grid_auto_flow": null,
            "grid_area": null,
            "grid_template_columns": null,
            "flex": null,
            "_model_name": "LayoutModel",
            "justify_items": null,
            "grid_row": null,
            "max_height": null,
            "align_content": null,
            "visibility": null,
            "align_self": null,
            "height": null,
            "min_height": null,
            "padding": null,
            "grid_auto_rows": null,
            "grid_gap": null,
            "max_width": null,
            "order": null,
            "_view_module_version": "1.2.0",
            "grid_template_areas": null,
            "object_position": null,
            "object_fit": null,
            "grid_auto_columns": null,
            "margin": null,
            "display": null,
            "left": null
          }
        }
      }
    }
  },
  "cells": [
    {
      "cell_type": "markdown",
      "metadata": {
        "id": "9y222HgfM-OA"
      },
      "source": [
        "# 머신 러닝 교과서 3판"
      ]
    },
    {
      "cell_type": "markdown",
      "metadata": {
        "id": "-5SXCZX_M-OD"
      },
      "source": [
        "# 17장 - 새로운 데이터 합성을 위한 생성적 적대 신경망 (1/2)"
      ]
    },
    {
      "cell_type": "markdown",
      "metadata": {
        "id": "hx1MAB0FbouH"
      },
      "source": [
        "**아래 링크를 통해 이 노트북을 주피터 노트북 뷰어(nbviewer.jupyter.org)로 보거나 구글 코랩(colab.research.google.com)에서 실행할 수 있습니다.**\n",
        "\n",
        "<table class=\"tfo-notebook-buttons\" align=\"left\">\n",
        "  <td>\n",
        "    <a target=\"_blank\" href=\"https://nbviewer.jupyter.org/github/rickiepark/python-machine-learning-book-3rd-edition/blob/master/ch17/ch17_part1.ipynb\"><img src=\"https://jupyter.org/assets/main-logo.svg\" width=\"28\" />주피터 노트북 뷰어로 보기</a>\n",
        "  </td>\n",
        "  <td>\n",
        "    <a target=\"_blank\" href=\"https://colab.research.google.com/github/rickiepark/python-machine-learning-book-3rd-edition/blob/master/ch17/ch17_part1.ipynb\"><img src=\"https://www.tensorflow.org/images/colab_logo_32px.png\" />구글 코랩(Colab)에서 실행하기</a>\n",
        "  </td>\n",
        "</table>"
      ]
    },
    {
      "cell_type": "markdown",
      "metadata": {
        "id": "4wzfKSEhbouH"
      },
      "source": [
        "### 목차"
      ]
    },
    {
      "cell_type": "markdown",
      "metadata": {
        "id": "1vc8_zr4bouH"
      },
      "source": [
        "- 생성적 적대 신경망 소개\n",
        "    - 오토인코더\n",
        "    - 새로운 데이터 합성을 위한 생성 모델\n",
        "    - GAN으로 새로운 샘플 생성하기\n",
        "    - GAN의 생성자와 판별자 손실 함수 이해하기\n",
        "- 밑바닥부터 GAN 모델 구현하기\n",
        "    - 구글 코랩에서 GAN 모델 훈련하기\n",
        "    - 생성자와 판별자 신경망 구현하기\n",
        "    - 훈련 데이터셋 정의하기\n",
        "    - GAN 모델 훈련하기"
      ]
    },
    {
      "cell_type": "code",
      "metadata": {
        "id": "2AfJgihdM-OE"
      },
      "source": [
        "from IPython.display import Image"
      ],
      "execution_count": 1,
      "outputs": []
    },
    {
      "cell_type": "markdown",
      "metadata": {
        "id": "41bk3eM5M-OE"
      },
      "source": [
        "# 생성적 적대 신경망 소개\n",
        "\n",
        "## 오토인코더"
      ]
    },
    {
      "cell_type": "code",
      "metadata": {
        "colab": {
          "base_uri": "https://localhost:8080/",
          "height": 470
        },
        "id": "phbH6zGQM-OE",
        "outputId": "ac60ea87-d038-452d-bf48-7d58c6bedf7a"
      },
      "source": [
        "Image(url='https://git.io/JLAQ2', width=500)"
      ],
      "execution_count": 2,
      "outputs": [
        {
          "output_type": "execute_result",
          "data": {
            "text/html": [
              "<img src=\"https://git.io/JLAQ2\" width=\"500\"/>"
            ],
            "text/plain": [
              "<IPython.core.display.Image object>"
            ]
          },
          "metadata": {
            "tags": []
          },
          "execution_count": 2
        }
      ]
    },
    {
      "cell_type": "markdown",
      "metadata": {
        "id": "Cuw0DGR2M-OF"
      },
      "source": [
        "## 새로운 데이터 합성을 위한 생성 모델"
      ]
    },
    {
      "cell_type": "code",
      "metadata": {
        "colab": {
          "base_uri": "https://localhost:8080/",
          "height": 437
        },
        "id": "ziTpZ3G5M-OF",
        "outputId": "0de0b12d-a107-4d5b-b1b0-ddefe3760d33"
      },
      "source": [
        "Image(url='https://git.io/JLAQH', width=700)"
      ],
      "execution_count": 3,
      "outputs": [
        {
          "output_type": "execute_result",
          "data": {
            "text/html": [
              "<img src=\"https://git.io/JLAQH\" width=\"700\"/>"
            ],
            "text/plain": [
              "<IPython.core.display.Image object>"
            ]
          },
          "metadata": {
            "tags": []
          },
          "execution_count": 3
        }
      ]
    },
    {
      "cell_type": "markdown",
      "metadata": {
        "id": "U1DsTJvLM-OF"
      },
      "source": [
        "## GAN으로 새로운 샘플 생성하기"
      ]
    },
    {
      "cell_type": "code",
      "metadata": {
        "colab": {
          "base_uri": "https://localhost:8080/",
          "height": 338
        },
        "id": "2DijKimVM-OF",
        "outputId": "b4f341b4-c599-4539-c357-8c944afa6bbc"
      },
      "source": [
        "Image(url='https://git.io/JLAQ7', width=700)"
      ],
      "execution_count": 4,
      "outputs": [
        {
          "output_type": "execute_result",
          "data": {
            "text/html": [
              "<img src=\"https://git.io/JLAQ7\" width=\"700\"/>"
            ],
            "text/plain": [
              "<IPython.core.display.Image object>"
            ]
          },
          "metadata": {
            "tags": []
          },
          "execution_count": 4
        }
      ]
    },
    {
      "cell_type": "markdown",
      "metadata": {
        "id": "iamOayQfM-OF"
      },
      "source": [
        "## GAN의 생성자와 판별자 손실 함수 이해하기"
      ]
    },
    {
      "cell_type": "code",
      "metadata": {
        "colab": {
          "base_uri": "https://localhost:8080/",
          "height": 516
        },
        "id": "P0SEKNGpM-OG",
        "outputId": "86aeacbb-89d6-4c6c-d9c9-5b3b5d960586"
      },
      "source": [
        "Image(url='https://git.io/JLAQF', width=800)"
      ],
      "execution_count": 5,
      "outputs": [
        {
          "output_type": "execute_result",
          "data": {
            "text/html": [
              "<img src=\"https://git.io/JLAQF\" width=\"800\"/>"
            ],
            "text/plain": [
              "<IPython.core.display.Image object>"
            ]
          },
          "metadata": {
            "tags": []
          },
          "execution_count": 5
        }
      ]
    },
    {
      "cell_type": "markdown",
      "metadata": {
        "id": "mgleEEF1M-OG"
      },
      "source": [
        "# 밑바닥부터 GAN 모델 구현하기"
      ]
    },
    {
      "cell_type": "markdown",
      "metadata": {
        "id": "a1UBoKm_M-OG"
      },
      "source": [
        "## 구글 코랩에서 GAN 모델 훈련하기"
      ]
    },
    {
      "cell_type": "code",
      "metadata": {
        "colab": {
          "base_uri": "https://localhost:8080/",
          "height": 507
        },
        "id": "sBdI0g22M-OG",
        "outputId": "cdf835d4-b0f9-412b-b067-b23af12c56a9"
      },
      "source": [
        "Image(url='https://git.io/JLAQb', width=700)"
      ],
      "execution_count": 6,
      "outputs": [
        {
          "output_type": "execute_result",
          "data": {
            "text/html": [
              "<img src=\"https://git.io/JLAQb\" width=\"700\"/>"
            ],
            "text/plain": [
              "<IPython.core.display.Image object>"
            ]
          },
          "metadata": {
            "tags": []
          },
          "execution_count": 6
        }
      ]
    },
    {
      "cell_type": "code",
      "metadata": {
        "colab": {
          "base_uri": "https://localhost:8080/",
          "height": 526
        },
        "id": "Mf0pXqraM-OH",
        "outputId": "e375c33c-75a0-44e7-ec56-d716de9508fd"
      },
      "source": [
        "Image(url='https://git.io/JLAQN', width=600)"
      ],
      "execution_count": 7,
      "outputs": [
        {
          "output_type": "execute_result",
          "data": {
            "text/html": [
              "<img src=\"https://git.io/JLAQN\" width=\"600\"/>"
            ],
            "text/plain": [
              "<IPython.core.display.Image object>"
            ]
          },
          "metadata": {
            "tags": []
          },
          "execution_count": 7
        }
      ]
    },
    {
      "cell_type": "code",
      "metadata": {
        "colab": {
          "base_uri": "https://localhost:8080/",
          "height": 534
        },
        "id": "Nd67sNNIM-OH",
        "outputId": "c5060e81-3485-4775-b328-f68276d04060"
      },
      "source": [
        "Image(url='https://git.io/JLAQA', width=600)"
      ],
      "execution_count": 8,
      "outputs": [
        {
          "output_type": "execute_result",
          "data": {
            "text/html": [
              "<img src=\"https://git.io/JLAQA\" width=\"600\"/>"
            ],
            "text/plain": [
              "<IPython.core.display.Image object>"
            ]
          },
          "metadata": {
            "tags": []
          },
          "execution_count": 8
        }
      ]
    },
    {
      "cell_type": "code",
      "metadata": {
        "colab": {
          "base_uri": "https://localhost:8080/"
        },
        "id": "_khN3hi1xxQ-",
        "outputId": "1952c815-1aaa-4748-b4c7-48103885a817"
      },
      "source": [
        "import tensorflow as tf\n",
        "print(tf.__version__)\n",
        "\n",
        "print(\"GPU 여부:\", len(tf.config.list_physical_devices('GPU')) > 0)\n",
        "\n",
        "if tf.config.list_physical_devices('GPU'):\n",
        "    device_name = tf.test.gpu_device_name()\n",
        "else:\n",
        "    device_name = 'cpu:0'\n",
        "    \n",
        "print(device_name)"
      ],
      "execution_count": 9,
      "outputs": [
        {
          "output_type": "stream",
          "text": [
            "2.5.0\n",
            "GPU 여부: True\n",
            "/device:GPU:0\n"
          ],
          "name": "stdout"
        }
      ]
    },
    {
      "cell_type": "code",
      "metadata": {
        "colab": {
          "base_uri": "https://localhost:8080/"
        },
        "id": "ceNFHOHHNVwz",
        "outputId": "f767fccb-239c-423b-85f5-180ab8e9aa2e"
      },
      "source": [
        "tf.config.experimental.get_memory_usage('GPU:0')"
      ],
      "execution_count": 10,
      "outputs": [
        {
          "output_type": "stream",
          "text": [
            "WARNING:tensorflow:From <ipython-input-10-b9c5066405f4>:1: get_memory_usage (from tensorflow.python.framework.config) is deprecated and will be removed in a future version.\n",
            "Instructions for updating:\n",
            "Use tf.config.experimental.get_memory_info(device)['current'] instead.\n"
          ],
          "name": "stdout"
        },
        {
          "output_type": "execute_result",
          "data": {
            "text/plain": [
              "0"
            ]
          },
          "metadata": {
            "tags": []
          },
          "execution_count": 10
        }
      ]
    },
    {
      "cell_type": "code",
      "metadata": {
        "colab": {
          "base_uri": "https://localhost:8080/"
        },
        "id": "5sNcfuwHPQMs",
        "outputId": "2b9e3dcb-4a78-4675-8ee5-33ed34130090"
      },
      "source": [
        "!nvidia-smi"
      ],
      "execution_count": 11,
      "outputs": [
        {
          "output_type": "stream",
          "text": [
            "Wed Jun  2 11:38:40 2021       \n",
            "+-----------------------------------------------------------------------------+\n",
            "| NVIDIA-SMI 465.19.01    Driver Version: 460.32.03    CUDA Version: 11.2     |\n",
            "|-------------------------------+----------------------+----------------------+\n",
            "| GPU  Name        Persistence-M| Bus-Id        Disp.A | Volatile Uncorr. ECC |\n",
            "| Fan  Temp  Perf  Pwr:Usage/Cap|         Memory-Usage | GPU-Util  Compute M. |\n",
            "|                               |                      |               MIG M. |\n",
            "|===============================+======================+======================|\n",
            "|   0  Tesla K80           Off  | 00000000:00:04.0 Off |                    0 |\n",
            "| N/A   73C    P0    76W / 149W |    122MiB / 11441MiB |      0%      Default |\n",
            "|                               |                      |                  N/A |\n",
            "+-------------------------------+----------------------+----------------------+\n",
            "                                                                               \n",
            "+-----------------------------------------------------------------------------+\n",
            "| Processes:                                                                  |\n",
            "|  GPU   GI   CI        PID   Type   Process name                  GPU Memory |\n",
            "|        ID   ID                                                   Usage      |\n",
            "|=============================================================================|\n",
            "+-----------------------------------------------------------------------------+\n"
          ],
          "name": "stdout"
        }
      ]
    },
    {
      "cell_type": "code",
      "metadata": {
        "colab": {
          "base_uri": "https://localhost:8080/"
        },
        "id": "4_yH3L4wTOLb",
        "outputId": "dc9e03b5-fe1a-4278-c762-eb9e27a00b05"
      },
      "source": [
        "!lsb_release -a"
      ],
      "execution_count": 12,
      "outputs": [
        {
          "output_type": "stream",
          "text": [
            "No LSB modules are available.\n",
            "Distributor ID:\tUbuntu\n",
            "Description:\tUbuntu 18.04.5 LTS\n",
            "Release:\t18.04\n",
            "Codename:\tbionic\n"
          ],
          "name": "stdout"
        }
      ]
    },
    {
      "cell_type": "code",
      "metadata": {
        "id": "ehoy80rqwNnl"
      },
      "source": [
        "#from google.colab import drive\n",
        "#drive.mount('/content/drive/')"
      ],
      "execution_count": 13,
      "outputs": []
    },
    {
      "cell_type": "markdown",
      "metadata": {
        "id": "jHHcQfM2M-OI"
      },
      "source": [
        "## 생성자와 판별자 신경망 구현하기"
      ]
    },
    {
      "cell_type": "code",
      "metadata": {
        "colab": {
          "base_uri": "https://localhost:8080/",
          "height": 474
        },
        "id": "ig_rZtXqM-OI",
        "outputId": "ffc680f9-108d-4ac0-cfac-e64c3a93f7a9"
      },
      "source": [
        "Image(url='https://git.io/JLAQp', width=600)"
      ],
      "execution_count": 14,
      "outputs": [
        {
          "output_type": "execute_result",
          "data": {
            "text/html": [
              "<img src=\"https://git.io/JLAQp\" width=\"600\"/>"
            ],
            "text/plain": [
              "<IPython.core.display.Image object>"
            ]
          },
          "metadata": {
            "tags": []
          },
          "execution_count": 14
        }
      ]
    },
    {
      "cell_type": "code",
      "metadata": {
        "colab": {
          "base_uri": "https://localhost:8080/",
          "height": 360
        },
        "id": "uc4FQzczM-OJ",
        "outputId": "32e75368-0dd8-4da3-a0ca-49ec9da9ec96"
      },
      "source": [
        "Image(url='https://git.io/JLAQh', width=600)"
      ],
      "execution_count": 15,
      "outputs": [
        {
          "output_type": "execute_result",
          "data": {
            "text/html": [
              "<img src=\"https://git.io/JLAQh\" width=\"600\"/>"
            ],
            "text/plain": [
              "<IPython.core.display.Image object>"
            ]
          },
          "metadata": {
            "tags": []
          },
          "execution_count": 15
        }
      ]
    },
    {
      "cell_type": "code",
      "metadata": {
        "id": "FRh8E66HwXRL"
      },
      "source": [
        "import tensorflow as tf\n",
        "import tensorflow_datasets as tfds\n",
        "import numpy as np\n",
        "import matplotlib.pyplot as plt"
      ],
      "execution_count": 16,
      "outputs": []
    },
    {
      "cell_type": "code",
      "metadata": {
        "id": "tOL56FmXwoL-"
      },
      "source": [
        "## 생성자 함수를 정의합니다:\n",
        "def make_generator_network(\n",
        "        num_hidden_layers=1,\n",
        "        num_hidden_units=100,\n",
        "        num_output_units=784):\n",
        "    model = tf.keras.Sequential()\n",
        "    for i in range(num_hidden_layers):\n",
        "        model.add(\n",
        "            tf.keras.layers.Dense(\n",
        "                units=num_hidden_units, \n",
        "                use_bias=False)\n",
        "            )\n",
        "        model.add(tf.keras.layers.LeakyReLU())\n",
        "        \n",
        "    model.add(tf.keras.layers.Dense(\n",
        "        units=num_output_units, activation='tanh'))\n",
        "    return model\n",
        "\n",
        "## 판별자 함수를 정의합니다:\n",
        "def make_discriminator_network(\n",
        "        num_hidden_layers=1,\n",
        "        num_hidden_units=100,\n",
        "        num_output_units=1):\n",
        "    model = tf.keras.Sequential()\n",
        "    for i in range(num_hidden_layers):\n",
        "        model.add(tf.keras.layers.Dense(units=num_hidden_units))\n",
        "        model.add(tf.keras.layers.LeakyReLU())\n",
        "        model.add(tf.keras.layers.Dropout(rate=0.5))\n",
        "        \n",
        "    model.add(\n",
        "        tf.keras.layers.Dense(\n",
        "            units=num_output_units, \n",
        "            activation=None)\n",
        "        )\n",
        "    return model"
      ],
      "execution_count": 17,
      "outputs": []
    },
    {
      "cell_type": "code",
      "metadata": {
        "colab": {
          "base_uri": "https://localhost:8080/"
        },
        "id": "9Z4JQb9MxD5p",
        "outputId": "493d9870-f2fb-4e03-a5c6-fb577593261b"
      },
      "source": [
        "image_size = (28, 28)\n",
        "z_size = 20\n",
        "mode_z = 'uniform'  # 'uniform' vs. 'normal'\n",
        "gen_hidden_layers = 1\n",
        "gen_hidden_size = 100\n",
        "disc_hidden_layers = 1\n",
        "disc_hidden_size = 100\n",
        "\n",
        "tf.random.set_seed(1)\n",
        "\n",
        "gen_model = make_generator_network(\n",
        "    num_hidden_layers=gen_hidden_layers, \n",
        "    num_hidden_units=gen_hidden_size,\n",
        "    num_output_units=np.prod(image_size))\n",
        "\n",
        "gen_model.build(input_shape=(None, z_size))\n",
        "gen_model.summary()"
      ],
      "execution_count": 18,
      "outputs": [
        {
          "output_type": "stream",
          "text": [
            "Model: \"sequential\"\n",
            "_________________________________________________________________\n",
            "Layer (type)                 Output Shape              Param #   \n",
            "=================================================================\n",
            "dense (Dense)                (None, 100)               2000      \n",
            "_________________________________________________________________\n",
            "leaky_re_lu (LeakyReLU)      (None, 100)               0         \n",
            "_________________________________________________________________\n",
            "dense_1 (Dense)              (None, 784)               79184     \n",
            "=================================================================\n",
            "Total params: 81,184\n",
            "Trainable params: 81,184\n",
            "Non-trainable params: 0\n",
            "_________________________________________________________________\n"
          ],
          "name": "stdout"
        }
      ]
    },
    {
      "cell_type": "code",
      "metadata": {
        "colab": {
          "base_uri": "https://localhost:8080/"
        },
        "id": "QAhbOUZHxN1b",
        "outputId": "9216534e-7ff6-45ac-eb4f-f3550b652429"
      },
      "source": [
        "disc_model = make_discriminator_network(\n",
        "    num_hidden_layers=disc_hidden_layers,\n",
        "    num_hidden_units=disc_hidden_size)\n",
        "\n",
        "disc_model.build(input_shape=(None, np.prod(image_size)))\n",
        "disc_model.summary()"
      ],
      "execution_count": 19,
      "outputs": [
        {
          "output_type": "stream",
          "text": [
            "Model: \"sequential_1\"\n",
            "_________________________________________________________________\n",
            "Layer (type)                 Output Shape              Param #   \n",
            "=================================================================\n",
            "dense_2 (Dense)              (None, 100)               78500     \n",
            "_________________________________________________________________\n",
            "leaky_re_lu_1 (LeakyReLU)    (None, 100)               0         \n",
            "_________________________________________________________________\n",
            "dropout (Dropout)            (None, 100)               0         \n",
            "_________________________________________________________________\n",
            "dense_3 (Dense)              (None, 1)                 101       \n",
            "=================================================================\n",
            "Total params: 78,601\n",
            "Trainable params: 78,601\n",
            "Non-trainable params: 0\n",
            "_________________________________________________________________\n"
          ],
          "name": "stdout"
        }
      ]
    },
    {
      "cell_type": "markdown",
      "metadata": {
        "id": "edHUQPQxM-OK"
      },
      "source": [
        "## 훈련 데이터셋 정의하기"
      ]
    },
    {
      "cell_type": "code",
      "metadata": {
        "colab": {
          "base_uri": "https://localhost:8080/",
          "height": 294,
          "referenced_widgets": [
            "6fa589f5be9e49138ca6d181af7a3895",
            "b24de2c3e270499d89f390c981c100e4",
            "2fc41da1588c411f95fe24aeeb1307e3",
            "ed320ce228f14f9898c071cf90c6ed31",
            "632c259287034bebbcc07cdefd926876",
            "0c089a383f204c078f32ababee686730",
            "084342a9648c4f079defcb543f373278",
            "c2e9415e42f24d09b8e802dc5d83727b"
          ]
        },
        "id": "ApQ1ICJixf2w",
        "outputId": "27ffb4b8-5d65-436e-d41d-979bfb7e97bf"
      },
      "source": [
        "mnist_bldr = tfds.builder('mnist')\n",
        "mnist_bldr.download_and_prepare()\n",
        "mnist = mnist_bldr.as_dataset(shuffle_files=False)\n",
        "\n",
        "def preprocess(ex, mode='uniform'):\n",
        "    image = ex['image']\n",
        "    image = tf.image.convert_image_dtype(image, tf.float32)\n",
        "    image = tf.reshape(image, [-1])\n",
        "    image = image*2 - 1.0\n",
        "    if mode == 'uniform':\n",
        "        input_z = tf.random.uniform(\n",
        "            shape=(z_size,), minval=-1.0, maxval=1.0)\n",
        "    elif mode == 'normal':\n",
        "        input_z = tf.random.normal(shape=(z_size,))\n",
        "    return input_z, image\n",
        "\n",
        "\n",
        "\n",
        "mnist_trainset = mnist['train']\n",
        "\n",
        "print('전처리 전:  ')\n",
        "example = next(iter(mnist_trainset))['image']\n",
        "print('dtype: ', example.dtype, ' 최소: {} 최대: {}'.format(np.min(example), np.max(example)))\n",
        "\n",
        "mnist_trainset = mnist_trainset.map(preprocess)\n",
        "\n",
        "print('전처리 후:  ')\n",
        "example = next(iter(mnist_trainset))[0]\n",
        "print('dtype: ', example.dtype, ' 최소: {} 최대: {}'.format(np.min(example), np.max(example)))"
      ],
      "execution_count": 20,
      "outputs": [
        {
          "output_type": "stream",
          "text": [
            "\u001b[1mDownloading and preparing dataset mnist/3.0.1 (download: 11.06 MiB, generated: 21.00 MiB, total: 32.06 MiB) to /root/tensorflow_datasets/mnist/3.0.1...\u001b[0m\n"
          ],
          "name": "stdout"
        },
        {
          "output_type": "stream",
          "text": [
            "WARNING:absl:Dataset mnist is hosted on GCS. It will automatically be downloaded to your\n",
            "local data directory. If you'd instead prefer to read directly from our public\n",
            "GCS bucket (recommended if you're running on GCP), you can instead pass\n",
            "`try_gcs=True` to `tfds.load` or set `data_dir=gs://tfds-data/datasets`.\n",
            "\n"
          ],
          "name": "stderr"
        },
        {
          "output_type": "display_data",
          "data": {
            "application/vnd.jupyter.widget-view+json": {
              "model_id": "6fa589f5be9e49138ca6d181af7a3895",
              "version_minor": 0,
              "version_major": 2
            },
            "text/plain": [
              "HBox(children=(FloatProgress(value=0.0, description='Dl Completed...', max=4.0, style=ProgressStyle(descriptio…"
            ]
          },
          "metadata": {
            "tags": []
          }
        },
        {
          "output_type": "stream",
          "text": [
            "\n",
            "\n",
            "\u001b[1mDataset mnist downloaded and prepared to /root/tensorflow_datasets/mnist/3.0.1. Subsequent calls will reuse this data.\u001b[0m\n",
            "전처리 전:  \n",
            "dtype:  <dtype: 'uint8'>  최소: 0 최대: 255\n",
            "전처리 후:  \n",
            "dtype:  <dtype: 'float32'>  최소: -0.8737728595733643 최대: 0.9460210800170898\n"
          ],
          "name": "stdout"
        }
      ]
    },
    {
      "cell_type": "markdown",
      "metadata": {
        "id": "HT57CGAz0RDr"
      },
      "source": [
        " * **데이터 흐름을 단계별로 밟아보기**"
      ]
    },
    {
      "cell_type": "code",
      "metadata": {
        "colab": {
          "base_uri": "https://localhost:8080/"
        },
        "id": "kdAXXUtryFGs",
        "outputId": "575b06a4-360a-44ac-f6f4-f226b0edb31b"
      },
      "source": [
        "mnist_trainset = mnist_trainset.batch(32, drop_remainder=True)\n",
        "input_z, input_real = next(iter(mnist_trainset))\n",
        "print('input-z -- 크기:', input_z.shape)\n",
        "print('input-real -- 크기:', input_real.shape)\n",
        "\n",
        "g_output = gen_model(input_z)\n",
        "print('생성자 출력 -- 크기:', g_output.shape)\n",
        "\n",
        "d_logits_real = disc_model(input_real)\n",
        "d_logits_fake = disc_model(g_output)\n",
        "print('판별자 (진짜) -- 크기:', d_logits_real.shape)\n",
        "print('판별자 (가짜) -- 크기:', d_logits_fake.shape)"
      ],
      "execution_count": 21,
      "outputs": [
        {
          "output_type": "stream",
          "text": [
            "input-z -- 크기: (32, 20)\n",
            "input-real -- 크기: (32, 784)\n",
            "생성자 출력 -- 크기: (32, 784)\n",
            "판별자 (진짜) -- 크기: (32, 1)\n",
            "판별자 (가짜) -- 크기: (32, 1)\n"
          ],
          "name": "stdout"
        }
      ]
    },
    {
      "cell_type": "markdown",
      "metadata": {
        "id": "Nb2H-Ac3M-OK"
      },
      "source": [
        "## GAN 모델 훈련하기"
      ]
    },
    {
      "cell_type": "code",
      "metadata": {
        "colab": {
          "base_uri": "https://localhost:8080/"
        },
        "id": "-c9xVvjJySZk",
        "outputId": "63efb6bb-3a49-4e2d-9fb2-4dcc302483c6"
      },
      "source": [
        "loss_fn = tf.keras.losses.BinaryCrossentropy(from_logits=True)\n",
        "\n",
        "## 생성자 손실\n",
        "g_labels_real = tf.ones_like(d_logits_fake)\n",
        "g_loss = loss_fn(y_true=g_labels_real, y_pred=d_logits_fake)\n",
        "print('생성자 손실: {:.4f}'.format(g_loss))\n",
        "\n",
        "## 판별자 손실\n",
        "d_labels_real = tf.ones_like(d_logits_real)\n",
        "d_labels_fake = tf.zeros_like(d_logits_fake)\n",
        "\n",
        "d_loss_real = loss_fn(y_true=d_labels_real, y_pred=d_logits_real)\n",
        "d_loss_fake = loss_fn(y_true=d_labels_fake, y_pred=d_logits_fake)\n",
        "print('판별자 손실: 진짜 {:.4f} 가짜 {:.4f}'\n",
        "      .format(d_loss_real.numpy(), d_loss_fake.numpy()))"
      ],
      "execution_count": 22,
      "outputs": [
        {
          "output_type": "stream",
          "text": [
            "생성자 손실: 0.7355\n",
            "판별자 손실: 진짜 1.5073 가짜 0.6583\n"
          ],
          "name": "stdout"
        }
      ]
    },
    {
      "cell_type": "markdown",
      "metadata": {
        "id": "jtxdTVyF0KCF"
      },
      "source": [
        " * **최종 훈련**"
      ]
    },
    {
      "cell_type": "code",
      "metadata": {
        "colab": {
          "base_uri": "https://localhost:8080/"
        },
        "id": "yeFKLGNfAF5J",
        "outputId": "3ce8ed5f-4484-4cb4-e277-3a09aa51daa9"
      },
      "source": [
        "import time\n",
        "\n",
        "\n",
        "num_epochs = 100\n",
        "batch_size = 64\n",
        "image_size = (28, 28)\n",
        "z_size = 20\n",
        "mode_z = 'uniform'\n",
        "gen_hidden_layers = 1\n",
        "gen_hidden_size = 100\n",
        "disc_hidden_layers = 1\n",
        "disc_hidden_size = 100\n",
        "\n",
        "tf.random.set_seed(1)\n",
        "np.random.seed(1)\n",
        "\n",
        "\n",
        "if mode_z == 'uniform':\n",
        "    fixed_z = tf.random.uniform(\n",
        "        shape=(batch_size, z_size),\n",
        "        minval=-1, maxval=1)\n",
        "elif mode_z == 'normal':\n",
        "    fixed_z = tf.random.normal(\n",
        "        shape=(batch_size, z_size))\n",
        "\n",
        "\n",
        "def create_samples(g_model, input_z):\n",
        "    g_output = g_model(input_z, training=False)\n",
        "    images = tf.reshape(g_output, (batch_size, *image_size))    \n",
        "    return (images+1)/2.0\n",
        "\n",
        "## 데이터셋 준비\n",
        "mnist_trainset = mnist['train']\n",
        "mnist_trainset = mnist_trainset.map(\n",
        "    lambda ex: preprocess(ex, mode=mode_z))\n",
        "\n",
        "mnist_trainset = mnist_trainset.shuffle(10000)\n",
        "mnist_trainset = mnist_trainset.batch(\n",
        "    batch_size, drop_remainder=True)\n",
        "\n",
        "## 모델 준비\n",
        "with tf.device(device_name):\n",
        "    gen_model = make_generator_network(\n",
        "        num_hidden_layers=gen_hidden_layers, \n",
        "        num_hidden_units=gen_hidden_size,\n",
        "        num_output_units=np.prod(image_size))\n",
        "    gen_model.build(input_shape=(None, z_size))\n",
        "\n",
        "    disc_model = make_discriminator_network(\n",
        "        num_hidden_layers=disc_hidden_layers,\n",
        "        num_hidden_units=disc_hidden_size)\n",
        "    disc_model.build(input_shape=(None, np.prod(image_size)))\n",
        "\n",
        "## 손실 함수와 옵티마이저:\n",
        "loss_fn = tf.keras.losses.BinaryCrossentropy(from_logits=True)\n",
        "g_optimizer = tf.keras.optimizers.Adam()\n",
        "d_optimizer = tf.keras.optimizers.Adam()\n",
        "\n",
        "all_losses = []\n",
        "all_d_vals = []\n",
        "epoch_samples = []\n",
        "\n",
        "start_time = time.time()\n",
        "for epoch in range(1, num_epochs+1):\n",
        "    epoch_losses, epoch_d_vals = [], []\n",
        "    for i,(input_z,input_real) in enumerate(mnist_trainset):\n",
        "        \n",
        "        ## 생성자 손실을 계산합니다\n",
        "        with tf.GradientTape() as g_tape:\n",
        "            g_output = gen_model(input_z)\n",
        "            d_logits_fake = disc_model(g_output, training=True)\n",
        "            labels_real = tf.ones_like(d_logits_fake)\n",
        "            g_loss = loss_fn(y_true=labels_real, y_pred=d_logits_fake)\n",
        "            \n",
        "        # g_loss의 그래디언트를 계산합니다\n",
        "        g_grads = g_tape.gradient(g_loss, gen_model.trainable_variables)\n",
        "        \n",
        "        # 최적화: 그래디언트를 적용합니다\n",
        "        g_optimizer.apply_gradients(\n",
        "            grads_and_vars=zip(g_grads, gen_model.trainable_variables))\n",
        "\n",
        "        ## 판별자 손실을 계산합니다\n",
        "        with tf.GradientTape() as d_tape:\n",
        "            d_logits_real = disc_model(input_real, training=True)\n",
        "\n",
        "            d_labels_real = tf.ones_like(d_logits_real)\n",
        "            \n",
        "            d_loss_real = loss_fn(\n",
        "                y_true=d_labels_real, y_pred=d_logits_real)\n",
        "\n",
        "            d_logits_fake = disc_model(g_output, training=True)\n",
        "            d_labels_fake = tf.zeros_like(d_logits_fake)\n",
        "\n",
        "            d_loss_fake = loss_fn(\n",
        "                y_true=d_labels_fake, y_pred=d_logits_fake)\n",
        "\n",
        "            d_loss = d_loss_real + d_loss_fake\n",
        "\n",
        "        ## d_loss의 그래디언트를 계산합니다\n",
        "        d_grads = d_tape.gradient(d_loss, disc_model.trainable_variables)\n",
        "        \n",
        "        ## 최적화: 그래디언트를 적용합니다\n",
        "        d_optimizer.apply_gradients(\n",
        "            grads_and_vars=zip(d_grads, disc_model.trainable_variables))\n",
        "                           \n",
        "        epoch_losses.append(\n",
        "            (g_loss.numpy(), d_loss.numpy(), \n",
        "             d_loss_real.numpy(), d_loss_fake.numpy()))\n",
        "        \n",
        "        d_probs_real = tf.reduce_mean(tf.sigmoid(d_logits_real))\n",
        "        d_probs_fake = tf.reduce_mean(tf.sigmoid(d_logits_fake))\n",
        "        epoch_d_vals.append((d_probs_real.numpy(), d_probs_fake.numpy()))        \n",
        "    all_losses.append(epoch_losses)\n",
        "    all_d_vals.append(epoch_d_vals)\n",
        "    print(\n",
        "        '에포크 {:03d} | 시간 {:.2f} min | 평균 손실 >>'\n",
        "        ' 생성자/판별자 {:.4f}/{:.4f} [판별자-진짜: {:.4f} 판별자-가짜: {:.4f}]'\n",
        "        .format(\n",
        "            epoch, (time.time() - start_time)/60, \n",
        "            *list(np.mean(all_losses[-1], axis=0))))\n",
        "    epoch_samples.append(\n",
        "        create_samples(gen_model, fixed_z).numpy())"
      ],
      "execution_count": 23,
      "outputs": [
        {
          "output_type": "stream",
          "text": [
            "에포크 001 | 시간 0.64 min | 평균 손실 >> 생성자/판별자 2.8668/0.2890 [판별자-진짜: 0.0333 판별자-가짜: 0.2557]\n",
            "에포크 002 | 시간 1.21 min | 평균 손실 >> 생성자/판별자 5.0587/0.3653 [판별자-진짜: 0.1230 판별자-가짜: 0.2423]\n",
            "에포크 003 | 시간 1.79 min | 평균 손실 >> 생성자/판별자 3.1716/0.7088 [판별자-진짜: 0.3189 판별자-가짜: 0.3899]\n",
            "에포크 004 | 시간 2.36 min | 평균 손실 >> 생성자/판별자 2.3350/0.8146 [판별자-진짜: 0.4174 판별자-가짜: 0.3973]\n",
            "에포크 005 | 시간 2.94 min | 평균 손실 >> 생성자/판별자 2.0375/0.8389 [판별자-진짜: 0.4520 판별자-가짜: 0.3869]\n",
            "에포크 006 | 시간 3.51 min | 평균 손실 >> 생성자/판별자 1.6647/0.9434 [판별자-진짜: 0.5151 판별자-가짜: 0.4283]\n",
            "에포크 007 | 시간 4.09 min | 평균 손실 >> 생성자/판별자 1.6693/0.9637 [판별자-진짜: 0.5188 판별자-가짜: 0.4450]\n",
            "에포크 008 | 시간 4.66 min | 평균 손실 >> 생성자/판별자 1.3413/1.0785 [판별자-진짜: 0.5774 판별자-가짜: 0.5011]\n",
            "에포크 009 | 시간 5.24 min | 평균 손실 >> 생성자/판별자 1.4446/0.9946 [판별자-진짜: 0.5421 판별자-가짜: 0.4526]\n",
            "에포크 010 | 시간 5.81 min | 평균 손실 >> 생성자/판별자 1.5597/1.0066 [판별자-진짜: 0.5424 판별자-가짜: 0.4641]\n",
            "에포크 011 | 시간 6.38 min | 평균 손실 >> 생성자/판별자 1.3525/1.0800 [판별자-진짜: 0.5771 판별자-가짜: 0.5029]\n",
            "에포크 012 | 시간 6.96 min | 평균 손실 >> 생성자/판별자 1.3308/1.0915 [판별자-진짜: 0.5776 판별자-가짜: 0.5140]\n",
            "에포크 013 | 시간 7.53 min | 평균 손실 >> 생성자/판별자 1.3055/1.1136 [판별자-진짜: 0.5804 판별자-가짜: 0.5332]\n",
            "에포크 014 | 시간 8.11 min | 평균 손실 >> 생성자/판별자 1.2371/1.1599 [판별자-진짜: 0.5999 판별자-가짜: 0.5599]\n",
            "에포크 015 | 시간 8.68 min | 평균 손실 >> 생성자/판별자 1.1345/1.2176 [판별자-진짜: 0.6221 판별자-가짜: 0.5954]\n",
            "에포크 016 | 시간 9.26 min | 평균 손실 >> 생성자/판별자 1.0902/1.2065 [판별자-진짜: 0.6226 판별자-가짜: 0.5839]\n",
            "에포크 017 | 시간 9.83 min | 평균 손실 >> 생성자/판별자 1.2796/1.1626 [판별자-진짜: 0.5925 판별자-가짜: 0.5701]\n",
            "에포크 018 | 시간 10.40 min | 평균 손실 >> 생성자/판별자 1.1468/1.2090 [판별자-진짜: 0.6208 판별자-가짜: 0.5882]\n",
            "에포크 019 | 시간 10.98 min | 평균 손실 >> 생성자/판별자 1.0847/1.2163 [판별자-진짜: 0.6231 판별자-가짜: 0.5932]\n",
            "에포크 020 | 시간 11.56 min | 평균 손실 >> 생성자/판별자 1.1572/1.2019 [판별자-진짜: 0.6132 판별자-가짜: 0.5887]\n",
            "에포크 021 | 시간 12.24 min | 평균 손실 >> 생성자/판별자 1.0637/1.2219 [판별자-진짜: 0.6266 판별자-가짜: 0.5954]\n",
            "에포크 022 | 시간 12.82 min | 평균 손실 >> 생성자/판별자 1.1451/1.2007 [판별자-진짜: 0.6127 판별자-가짜: 0.5880]\n",
            "에포크 023 | 시간 13.40 min | 평균 손실 >> 생성자/판별자 1.1183/1.1983 [판별자-진짜: 0.6115 판별자-가짜: 0.5867]\n",
            "에포크 024 | 시간 13.97 min | 평균 손실 >> 생성자/판별자 1.0429/1.2288 [판별자-진짜: 0.6264 판별자-가짜: 0.6023]\n",
            "에포크 025 | 시간 14.55 min | 평균 손실 >> 생성자/판별자 1.0730/1.2198 [판별자-진짜: 0.6209 판별자-가짜: 0.5989]\n",
            "에포크 026 | 시간 15.13 min | 평균 손실 >> 생성자/판별자 1.0795/1.2422 [판별자-진짜: 0.6274 판별자-가짜: 0.6147]\n",
            "에포크 027 | 시간 15.70 min | 평균 손실 >> 생성자/판별자 1.0917/1.2272 [판별자-진짜: 0.6223 판별자-가짜: 0.6048]\n",
            "에포크 028 | 시간 16.28 min | 평균 손실 >> 생성자/판별자 1.0418/1.2310 [판별자-진짜: 0.6265 판별자-가짜: 0.6045]\n",
            "에포크 029 | 시간 16.86 min | 평균 손실 >> 생성자/판별자 1.0140/1.2347 [판별자-진짜: 0.6281 판별자-가짜: 0.6066]\n",
            "에포크 030 | 시간 17.44 min | 평균 손실 >> 생성자/판별자 1.0662/1.2257 [판별자-진짜: 0.6216 판별자-가짜: 0.6041]\n",
            "에포크 031 | 시간 18.02 min | 평균 손실 >> 생성자/판별자 1.0662/1.2497 [판별자-진짜: 0.6304 판별자-가짜: 0.6193]\n",
            "에포크 032 | 시간 18.60 min | 평균 손실 >> 생성자/판별자 1.0020/1.2568 [판별자-진짜: 0.6360 판별자-가짜: 0.6208]\n",
            "에포크 033 | 시간 19.18 min | 평균 손실 >> 생성자/판별자 1.0243/1.2586 [판별자-진짜: 0.6354 판별자-가짜: 0.6232]\n",
            "에포크 034 | 시간 19.76 min | 평균 손실 >> 생성자/판별자 1.0445/1.2404 [판별자-진짜: 0.6263 판별자-가짜: 0.6141]\n",
            "에포크 035 | 시간 20.33 min | 평균 손실 >> 생성자/판별자 1.0305/1.2528 [판별자-진짜: 0.6344 판별자-가짜: 0.6184]\n",
            "에포크 036 | 시간 20.91 min | 평균 손실 >> 생성자/판별자 1.0159/1.2542 [판별자-진짜: 0.6360 판별자-가짜: 0.6183]\n",
            "에포크 037 | 시간 21.48 min | 평균 손실 >> 생성자/판별자 0.9829/1.2780 [판별자-진짜: 0.6424 판별자-가짜: 0.6356]\n",
            "에포크 038 | 시간 22.06 min | 평균 손실 >> 생성자/판별자 0.9690/1.2807 [판별자-진짜: 0.6458 판별자-가짜: 0.6349]\n",
            "에포크 039 | 시간 22.63 min | 평균 손실 >> 생성자/판별자 0.9881/1.2668 [판별자-진짜: 0.6387 판별자-가짜: 0.6281]\n",
            "에포크 040 | 시간 23.21 min | 평균 손실 >> 생성자/판별자 0.9388/1.2858 [판별자-진짜: 0.6467 판별자-가짜: 0.6390]\n",
            "에포크 041 | 시간 23.78 min | 평균 손실 >> 생성자/판별자 0.9658/1.2924 [판별자-진짜: 0.6461 판별자-가짜: 0.6463]\n",
            "에포크 042 | 시간 24.35 min | 평균 손실 >> 생성자/판별자 0.9956/1.2837 [판별자-진짜: 0.6430 판별자-가짜: 0.6408]\n",
            "에포크 043 | 시간 24.92 min | 평균 손실 >> 생성자/판별자 0.9705/1.2868 [판별자-진짜: 0.6474 판별자-가짜: 0.6394]\n",
            "에포크 044 | 시간 25.49 min | 평균 손실 >> 생성자/판별자 0.9572/1.2878 [판별자-진짜: 0.6492 판별자-가짜: 0.6386]\n",
            "에포크 045 | 시간 26.07 min | 평균 손실 >> 생성자/판별자 0.9503/1.2896 [판별자-진짜: 0.6496 판별자-가짜: 0.6400]\n",
            "에포크 046 | 시간 26.64 min | 평균 손실 >> 생성자/판별자 0.9637/1.2909 [판별자-진짜: 0.6494 판별자-가짜: 0.6414]\n",
            "에포크 047 | 시간 27.21 min | 평균 손실 >> 생성자/판별자 0.9965/1.2769 [판별자-진짜: 0.6419 판별자-가짜: 0.6350]\n",
            "에포크 048 | 시간 27.78 min | 평균 손실 >> 생성자/판별자 0.9482/1.2907 [판별자-진짜: 0.6493 판별자-가짜: 0.6414]\n",
            "에포크 049 | 시간 28.35 min | 평균 손실 >> 생성자/판별자 0.9407/1.2825 [판별자-진짜: 0.6450 판별자-가짜: 0.6374]\n",
            "에포크 050 | 시간 28.92 min | 평균 손실 >> 생성자/판별자 0.9589/1.2912 [판별자-진짜: 0.6487 판별자-가짜: 0.6426]\n",
            "에포크 051 | 시간 29.50 min | 평균 손실 >> 생성자/판별자 0.9588/1.2883 [판별자-진짜: 0.6471 판별자-가짜: 0.6412]\n",
            "에포크 052 | 시간 30.07 min | 평균 손실 >> 생성자/판별자 0.9395/1.2982 [판별자-진짜: 0.6530 판별자-가짜: 0.6452]\n",
            "에포크 053 | 시간 30.64 min | 평균 손실 >> 생성자/판별자 0.9583/1.2895 [판별자-진짜: 0.6474 판별자-가짜: 0.6421]\n",
            "에포크 054 | 시간 31.21 min | 평균 손실 >> 생성자/판별자 0.9576/1.2918 [판별자-진짜: 0.6500 판별자-가짜: 0.6419]\n",
            "에포크 055 | 시간 31.78 min | 평균 손실 >> 생성자/판별자 0.9360/1.3021 [판별자-진짜: 0.6545 판별자-가짜: 0.6476]\n",
            "에포크 056 | 시간 32.36 min | 평균 손실 >> 생성자/판별자 0.9252/1.3096 [판별자-진짜: 0.6565 판별자-가짜: 0.6531]\n",
            "에포크 057 | 시간 32.94 min | 평균 손실 >> 생성자/판별자 0.9614/1.3003 [판별자-진짜: 0.6519 판별자-가짜: 0.6484]\n",
            "에포크 058 | 시간 33.50 min | 평균 손실 >> 생성자/판별자 0.9229/1.3048 [판별자-진짜: 0.6551 판별자-가짜: 0.6498]\n",
            "에포크 059 | 시간 34.08 min | 평균 손실 >> 생성자/판별자 0.9330/1.3056 [판별자-진짜: 0.6568 판별자-가짜: 0.6488]\n",
            "에포크 060 | 시간 34.66 min | 평균 손실 >> 생성자/판별자 0.9503/1.3088 [판별자-진짜: 0.6545 판별자-가짜: 0.6544]\n",
            "에포크 061 | 시간 35.22 min | 평균 손실 >> 생성자/판별자 0.9245/1.3102 [판별자-진짜: 0.6568 판별자-가짜: 0.6534]\n",
            "에포크 062 | 시간 35.79 min | 평균 손실 >> 생성자/판별자 0.8950/1.3115 [판별자-진짜: 0.6575 판별자-가짜: 0.6539]\n",
            "에포크 063 | 시간 36.35 min | 평균 손실 >> 생성자/판별자 0.9367/1.3045 [판별자-진짜: 0.6557 판별자-가짜: 0.6489]\n",
            "에포크 064 | 시간 36.92 min | 평균 손실 >> 생성자/판별자 0.9248/1.3081 [판별자-진짜: 0.6571 판별자-가짜: 0.6511]\n",
            "에포크 065 | 시간 37.48 min | 평균 손실 >> 생성자/판별자 0.9285/1.3101 [판별자-진짜: 0.6585 판별자-가짜: 0.6516]\n",
            "에포크 066 | 시간 38.05 min | 평균 손실 >> 생성자/판별자 0.9248/1.3097 [판별자-진짜: 0.6577 판별자-가짜: 0.6520]\n",
            "에포크 067 | 시간 38.62 min | 평균 손실 >> 생성자/판별자 0.9695/1.3020 [판별자-진짜: 0.6520 판별자-가짜: 0.6500]\n",
            "에포크 068 | 시간 39.19 min | 평균 손실 >> 생성자/판별자 0.9038/1.3093 [판별자-진짜: 0.6566 판별자-가짜: 0.6528]\n",
            "에포크 069 | 시간 39.76 min | 평균 손실 >> 생성자/판별자 0.8970/1.3203 [판별자-진짜: 0.6638 판별자-가짜: 0.6565]\n",
            "에포크 070 | 시간 40.33 min | 평균 손실 >> 생성자/판별자 0.9784/1.2989 [판별자-진짜: 0.6493 판별자-가짜: 0.6496]\n",
            "에포크 071 | 시간 40.89 min | 평균 손실 >> 생성자/판별자 0.9256/1.3038 [판별자-진짜: 0.6563 판별자-가짜: 0.6475]\n",
            "에포크 072 | 시간 41.46 min | 평균 손실 >> 생성자/판별자 0.8855/1.3192 [판별자-진짜: 0.6636 판별자-가짜: 0.6555]\n",
            "에포크 073 | 시간 42.04 min | 평균 손실 >> 생성자/판별자 0.9241/1.3139 [판별자-진짜: 0.6576 판별자-가짜: 0.6563]\n",
            "에포크 074 | 시간 42.60 min | 평균 손실 >> 생성자/판별자 0.9375/1.3018 [판별자-진짜: 0.6537 판별자-가짜: 0.6481]\n",
            "에포크 075 | 시간 43.17 min | 평균 손실 >> 생성자/판별자 0.9093/1.3221 [판별자-진짜: 0.6657 판별자-가짜: 0.6564]\n",
            "에포크 076 | 시간 43.85 min | 평균 손실 >> 생성자/판별자 0.9046/1.3160 [판별자-진짜: 0.6597 판별자-가짜: 0.6564]\n",
            "에포크 077 | 시간 44.42 min | 평균 손실 >> 생성자/판별자 0.8999/1.3167 [판별자-진짜: 0.6619 판별자-가짜: 0.6548]\n",
            "에포크 078 | 시간 44.98 min | 평균 손실 >> 생성자/판별자 0.9751/1.3050 [판별자-진짜: 0.6526 판별자-가짜: 0.6524]\n",
            "에포크 079 | 시간 45.55 min | 평균 손실 >> 생성자/판별자 0.9329/1.3011 [판별자-진짜: 0.6547 판별자-가짜: 0.6464]\n",
            "에포크 080 | 시간 46.11 min | 평균 손실 >> 생성자/판별자 0.9111/1.3125 [판별자-진짜: 0.6577 판별자-가짜: 0.6547]\n",
            "에포크 081 | 시간 46.68 min | 평균 손실 >> 생성자/판별자 0.9176/1.3084 [판별자-진짜: 0.6579 판별자-가짜: 0.6506]\n",
            "에포크 082 | 시간 47.24 min | 평균 손실 >> 생성자/판별자 0.8771/1.3229 [판별자-진짜: 0.6624 판별자-가짜: 0.6605]\n",
            "에포크 083 | 시간 47.80 min | 평균 손실 >> 생성자/판별자 0.9468/1.3124 [판별자-진짜: 0.6570 판별자-가짜: 0.6554]\n",
            "에포크 084 | 시간 48.37 min | 평균 손실 >> 생성자/판별자 0.9555/1.3031 [판별자-진짜: 0.6546 판별자-가짜: 0.6485]\n",
            "에포크 085 | 시간 48.94 min | 평균 손실 >> 생성자/판별자 0.9004/1.3138 [판별자-진짜: 0.6606 판별자-가짜: 0.6532]\n",
            "에포크 086 | 시간 49.50 min | 평균 손실 >> 생성자/판별자 0.9118/1.3179 [판별자-진짜: 0.6605 판별자-가짜: 0.6574]\n",
            "에포크 087 | 시간 50.08 min | 평균 손실 >> 생성자/판별자 0.9525/1.3071 [판별자-진짜: 0.6548 판별자-가짜: 0.6523]\n",
            "에포크 088 | 시간 50.64 min | 평균 손실 >> 생성자/판별자 0.9236/1.3095 [판별자-진짜: 0.6560 판별자-가짜: 0.6535]\n",
            "에포크 089 | 시간 51.21 min | 평균 손실 >> 생성자/판별자 0.9195/1.3077 [판별자-진짜: 0.6556 판별자-가짜: 0.6521]\n",
            "에포크 090 | 시간 51.77 min | 평균 손실 >> 생성자/판별자 0.9203/1.3171 [판별자-진짜: 0.6621 판별자-가짜: 0.6551]\n",
            "에포크 091 | 시간 52.34 min | 평균 손실 >> 생성자/판별자 0.9239/1.3161 [판별자-진짜: 0.6615 판별자-가짜: 0.6546]\n",
            "에포크 092 | 시간 52.91 min | 평균 손실 >> 생성자/판별자 0.9316/1.3170 [판별자-진짜: 0.6584 판별자-가짜: 0.6587]\n",
            "에포크 093 | 시간 53.48 min | 평균 손실 >> 생성자/판별자 0.9126/1.3185 [판별자-진짜: 0.6628 판별자-가짜: 0.6557]\n",
            "에포크 094 | 시간 54.05 min | 평균 손실 >> 생성자/판별자 0.9128/1.3216 [판별자-진짜: 0.6628 판별자-가짜: 0.6587]\n",
            "에포크 095 | 시간 54.62 min | 평균 손실 >> 생성자/판별자 0.9288/1.3154 [판별자-진짜: 0.6584 판별자-가짜: 0.6571]\n",
            "에포크 096 | 시간 55.19 min | 평균 손실 >> 생성자/판별자 0.9036/1.3185 [판별자-진짜: 0.6620 판별자-가짜: 0.6565]\n",
            "에포크 097 | 시간 55.77 min | 평균 손실 >> 생성자/판별자 0.9471/1.3102 [판별자-진짜: 0.6576 판별자-가짜: 0.6526]\n",
            "에포크 098 | 시간 56.45 min | 평균 손실 >> 생성자/판별자 0.9168/1.3191 [판별자-진짜: 0.6623 판별자-가짜: 0.6568]\n",
            "에포크 099 | 시간 57.02 min | 평균 손실 >> 생성자/판별자 0.9200/1.3136 [판별자-진짜: 0.6586 판별자-가짜: 0.6550]\n",
            "에포크 100 | 시간 57.60 min | 평균 손실 >> 생성자/판별자 0.9041/1.3266 [판별자-진짜: 0.6628 판별자-가짜: 0.6638]\n"
          ],
          "name": "stdout"
        }
      ]
    },
    {
      "cell_type": "code",
      "metadata": {
        "colab": {
          "base_uri": "https://localhost:8080/",
          "height": 458
        },
        "id": "TQyQ8deLaHmw",
        "outputId": "e8951a75-d51c-4d74-9430-891f4d2ec68e"
      },
      "source": [
        "import itertools\n",
        "\n",
        "\n",
        "fig = plt.figure(figsize=(16, 6))\n",
        "\n",
        "## 손실 그래프\n",
        "ax = fig.add_subplot(1, 2, 1)\n",
        "g_losses = [item[0] for item in itertools.chain(*all_losses)]\n",
        "d_losses = [item[1]/2.0 for item in itertools.chain(*all_losses)]\n",
        "plt.plot(g_losses, label='Generator loss', alpha=0.95)\n",
        "plt.plot(d_losses, label='Discriminator loss', alpha=0.95)\n",
        "plt.legend(fontsize=20)\n",
        "ax.set_xlabel('Iteration', size=15)\n",
        "ax.set_ylabel('Loss', size=15)\n",
        "\n",
        "epochs = np.arange(1, 101)\n",
        "epoch2iter = lambda e: e*len(all_losses[-1])\n",
        "epoch_ticks = [1, 20, 40, 60, 80, 100]\n",
        "newpos = [epoch2iter(e) for e in epoch_ticks]\n",
        "ax2 = ax.twiny()\n",
        "ax2.set_xticks(newpos)\n",
        "ax2.set_xticklabels(epoch_ticks)\n",
        "ax2.xaxis.set_ticks_position('bottom')\n",
        "ax2.xaxis.set_label_position('bottom')\n",
        "ax2.spines['bottom'].set_position(('outward', 60))\n",
        "ax2.set_xlabel('Epoch', size=15)\n",
        "ax2.set_xlim(ax.get_xlim())\n",
        "ax.tick_params(axis='both', which='major', labelsize=15)\n",
        "ax2.tick_params(axis='both', which='major', labelsize=15)\n",
        "\n",
        "## 판별자의 출력\n",
        "ax = fig.add_subplot(1, 2, 2)\n",
        "d_vals_real = [item[0] for item in itertools.chain(*all_d_vals)]\n",
        "d_vals_fake = [item[1] for item in itertools.chain(*all_d_vals)]\n",
        "plt.plot(d_vals_real, alpha=0.75, label=r'Real: $D(\\mathbf{x})$')\n",
        "plt.plot(d_vals_fake, alpha=0.75, label=r'Fake: $D(G(\\mathbf{z}))$')\n",
        "plt.legend(fontsize=20)\n",
        "ax.set_xlabel('Iteration', size=15)\n",
        "ax.set_ylabel('Discriminator output', size=15)\n",
        "\n",
        "ax2 = ax.twiny()\n",
        "ax2.set_xticks(newpos)\n",
        "ax2.set_xticklabels(epoch_ticks)\n",
        "ax2.xaxis.set_ticks_position('bottom')\n",
        "ax2.xaxis.set_label_position('bottom')\n",
        "ax2.spines['bottom'].set_position(('outward', 60))\n",
        "ax2.set_xlabel('Epoch', size=15)\n",
        "ax2.set_xlim(ax.get_xlim())\n",
        "ax.tick_params(axis='both', which='major', labelsize=15)\n",
        "ax2.tick_params(axis='both', which='major', labelsize=15)\n",
        "\n",
        "plt.show()"
      ],
      "execution_count": 24,
      "outputs": [
        {
          "output_type": "display_data",
          "data": {
            "image/png": "[encoded data removed]",
            "text/plain": [
              "<Figure size 1152x432 with 4 Axes>"
            ]
          },
          "metadata": {
            "tags": [],
            "needs_background": "light"
          }
        }
      ]
    },
    {
      "cell_type": "code",
      "metadata": {
        "colab": {
          "base_uri": "https://localhost:8080/",
          "height": 783
        },
        "id": "iENdPX_gPoJ7",
        "outputId": "f493abcc-0aaa-4732-ffb1-ab6eace0ff3f"
      },
      "source": [
        "selected_epochs = [1, 2, 4, 10, 50, 100]\n",
        "fig = plt.figure(figsize=(10, 14))\n",
        "for i,e in enumerate(selected_epochs):\n",
        "    for j in range(5):\n",
        "        ax = fig.add_subplot(6, 5, i*5+j+1)\n",
        "        ax.set_xticks([])\n",
        "        ax.set_yticks([])\n",
        "        if j == 0:\n",
        "            ax.text(\n",
        "                -0.06, 0.5, 'Epoch {}'.format(e),\n",
        "                rotation=90, size=18, color='red',\n",
        "                horizontalalignment='right',\n",
        "                verticalalignment='center', \n",
        "                transform=ax.transAxes)\n",
        "        \n",
        "        image = epoch_samples[e-1][j]\n",
        "        ax.imshow(image, cmap='gray_r')\n",
        "\n",
        "plt.show()"
      ],
      "execution_count": 25,
      "outputs": [
        {
          "output_type": "display_data",
          "data": {
            "image/png": "[encoded data removed]",
            "text/plain": [
              "<Figure size 720x1008 with 30 Axes>"
            ]
          },
          "metadata": {
            "tags": []
          }
        }
      ]
    }
  ]
}