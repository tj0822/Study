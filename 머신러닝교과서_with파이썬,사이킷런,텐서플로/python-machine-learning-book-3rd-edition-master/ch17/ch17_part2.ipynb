{
  "nbformat": 4,
  "nbformat_minor": 0,
  "metadata": {
    "accelerator": "GPU",
    "colab": {
      "name": "ch17-DCGAN.ipynb",
      "provenance": [],
      "collapsed_sections": []
    },
    "kernelspec": {
      "display_name": "Python 3",
      "language": "python",
      "name": "python3"
    },
    "language_info": {
      "codemirror_mode": {
        "name": "ipython",
        "version": 3
      },
      "file_extension": ".py",
      "mimetype": "text/x-python",
      "name": "python",
      "nbconvert_exporter": "python",
      "pygments_lexer": "ipython3",
      "version": "3.7.3"
    },
    "widgets": {
      "application/vnd.jupyter.widget-state+json": {
        "0b020b386d0449b4a99329f97d4ab7a2": {
          "model_module": "@jupyter-widgets/controls",
          "model_name": "HBoxModel",
          "state": {
            "_view_name": "HBoxView",
            "_dom_classes": [],
            "_model_name": "HBoxModel",
            "_view_module": "@jupyter-widgets/controls",
            "_model_module_version": "1.5.0",
            "_view_count": null,
            "_view_module_version": "1.5.0",
            "box_style": "",
            "layout": "IPY_MODEL_5e7fd216abb24574ae7b741f1baa1a53",
            "_model_module": "@jupyter-widgets/controls",
            "children": [
              "IPY_MODEL_1d899d678d814dde9e9abc37164dd91e",
              "IPY_MODEL_41a3c443129e4d5ea38b844035688000"
            ]
          }
        },
        "5e7fd216abb24574ae7b741f1baa1a53": {
          "model_module": "@jupyter-widgets/base",
          "model_name": "LayoutModel",
          "state": {
            "_view_name": "LayoutView",
            "grid_template_rows": null,
            "right": null,
            "justify_content": null,
            "_view_module": "@jupyter-widgets/base",
            "overflow": null,
            "_model_module_version": "1.2.0",
            "_view_count": null,
            "flex_flow": null,
            "width": null,
            "min_width": null,
            "border": null,
            "align_items": null,
            "bottom": null,
            "_model_module": "@jupyter-widgets/base",
            "top": null,
            "grid_column": null,
            "overflow_y": null,
            "overflow_x": null,
            "grid_auto_flow": null,
            "grid_area": null,
            "grid_template_columns": null,
            "flex": null,
            "_model_name": "LayoutModel",
            "justify_items": null,
            "grid_row": null,
            "max_height": null,
            "align_content": null,
            "visibility": null,
            "align_self": null,
            "height": null,
            "min_height": null,
            "padding": null,
            "grid_auto_rows": null,
            "grid_gap": null,
            "max_width": null,
            "order": null,
            "_view_module_version": "1.2.0",
            "grid_template_areas": null,
            "object_position": null,
            "object_fit": null,
            "grid_auto_columns": null,
            "margin": null,
            "display": null,
            "left": null
          }
        },
        "1d899d678d814dde9e9abc37164dd91e": {
          "model_module": "@jupyter-widgets/controls",
          "model_name": "FloatProgressModel",
          "state": {
            "_view_name": "ProgressView",
            "style": "IPY_MODEL_f2dad0844d474ada980d4e5b156773ce",
            "_dom_classes": [],
            "description": "Dl Completed...: 100%",
            "_model_name": "FloatProgressModel",
            "bar_style": "success",
            "max": 4,
            "_view_module": "@jupyter-widgets/controls",
            "_model_module_version": "1.5.0",
            "value": 4,
            "_view_count": null,
            "_view_module_version": "1.5.0",
            "orientation": "horizontal",
            "min": 0,
            "description_tooltip": null,
            "_model_module": "@jupyter-widgets/controls",
            "layout": "IPY_MODEL_a64990dda2c3403296a1b9e0a0ab6452"
          }
        },
        "41a3c443129e4d5ea38b844035688000": {
          "model_module": "@jupyter-widgets/controls",
          "model_name": "HTMLModel",
          "state": {
            "_view_name": "HTMLView",
            "style": "IPY_MODEL_75b544c8684843a3b01ba4daef2a7f9e",
            "_dom_classes": [],
            "description": "",
            "_model_name": "HTMLModel",
            "placeholder": "​",
            "_view_module": "@jupyter-widgets/controls",
            "_model_module_version": "1.5.0",
            "value": " 4/4 [00:00&lt;00:00,  6.91 file/s]",
            "_view_count": null,
            "_view_module_version": "1.5.0",
            "description_tooltip": null,
            "_model_module": "@jupyter-widgets/controls",
            "layout": "IPY_MODEL_99b3c33920774997a9b56311b065691a"
          }
        },
        "f2dad0844d474ada980d4e5b156773ce": {
          "model_module": "@jupyter-widgets/controls",
          "model_name": "ProgressStyleModel",
          "state": {
            "_view_name": "StyleView",
            "_model_name": "ProgressStyleModel",
            "description_width": "initial",
            "_view_module": "@jupyter-widgets/base",
            "_model_module_version": "1.5.0",
            "_view_count": null,
            "_view_module_version": "1.2.0",
            "bar_color": null,
            "_model_module": "@jupyter-widgets/controls"
          }
        },
        "a64990dda2c3403296a1b9e0a0ab6452": {
          "model_module": "@jupyter-widgets/base",
          "model_name": "LayoutModel",
          "state": {
            "_view_name": "LayoutView",
            "grid_template_rows": null,
            "right": null,
            "justify_content": null,
            "_view_module": "@jupyter-widgets/base",
            "overflow": null,
            "_model_module_version": "1.2.0",
            "_view_count": null,
            "flex_flow": null,
            "width": null,
            "min_width": null,
            "border": null,
            "align_items": null,
            "bottom": null,
            "_model_module": "@jupyter-widgets/base",
            "top": null,
            "grid_column": null,
            "overflow_y": null,
            "overflow_x": null,
            "grid_auto_flow": null,
            "grid_area": null,
            "grid_template_columns": null,
            "flex": null,
            "_model_name": "LayoutModel",
            "justify_items": null,
            "grid_row": null,
            "max_height": null,
            "align_content": null,
            "visibility": null,
            "align_self": null,
            "height": null,
            "min_height": null,
            "padding": null,
            "grid_auto_rows": null,
            "grid_gap": null,
            "max_width": null,
            "order": null,
            "_view_module_version": "1.2.0",
            "grid_template_areas": null,
            "object_position": null,
            "object_fit": null,
            "grid_auto_columns": null,
            "margin": null,
            "display": null,
            "left": null
          }
        },
        "75b544c8684843a3b01ba4daef2a7f9e": {
          "model_module": "@jupyter-widgets/controls",
          "model_name": "DescriptionStyleModel",
          "state": {
            "_view_name": "StyleView",
            "_model_name": "DescriptionStyleModel",
            "description_width": "",
            "_view_module": "@jupyter-widgets/base",
            "_model_module_version": "1.5.0",
            "_view_count": null,
            "_view_module_version": "1.2.0",
            "_model_module": "@jupyter-widgets/controls"
          }
        },
        "99b3c33920774997a9b56311b065691a": {
          "model_module": "@jupyter-widgets/base",
          "model_name": "LayoutModel",
          "state": {
            "_view_name": "LayoutView",
            "grid_template_rows": null,
            "right": null,
            "justify_content": null,
            "_view_module": "@jupyter-widgets/base",
            "overflow": null,
            "_model_module_version": "1.2.0",
            "_view_count": null,
            "flex_flow": null,
            "width": null,
            "min_width": null,
            "border": null,
            "align_items": null,
            "bottom": null,
            "_model_module": "@jupyter-widgets/base",
            "top": null,
            "grid_column": null,
            "overflow_y": null,
            "overflow_x": null,
            "grid_auto_flow": null,
            "grid_area": null,
            "grid_template_columns": null,
            "flex": null,
            "_model_name": "LayoutModel",
            "justify_items": null,
            "grid_row": null,
            "max_height": null,
            "align_content": null,
            "visibility": null,
            "align_self": null,
            "height": null,
            "min_height": null,
            "padding": null,
            "grid_auto_rows": null,
            "grid_gap": null,
            "max_width": null,
            "order": null,
            "_view_module_version": "1.2.0",
            "grid_template_areas": null,
            "object_position": null,
            "object_fit": null,
            "grid_auto_columns": null,
            "margin": null,
            "display": null,
            "left": null
          }
        }
      }
    }
  },
  "cells": [
    {
      "cell_type": "markdown",
      "metadata": {
        "id": "mhnVRDEso6TM"
      },
      "source": [
        "# 머신 러닝 교과서 3판"
      ]
    },
    {
      "cell_type": "markdown",
      "metadata": {
        "id": "iLYc3wMJo6TQ"
      },
      "source": [
        "# 17장 - 새로운 데이터 합성을 위한 생성적 적대 신경망 (2/2)"
      ]
    },
    {
      "cell_type": "markdown",
      "metadata": {
        "id": "zxnZcUDYo6TQ"
      },
      "source": [
        "**아래 링크를 통해 이 노트북을 주피터 노트북 뷰어(nbviewer.jupyter.org)로 보거나 구글 코랩(colab.research.google.com)에서 실행할 수 있습니다.**\n",
        "\n",
        "<table class=\"tfo-notebook-buttons\" align=\"left\">\n",
        "  <td>\n",
        "    <a target=\"_blank\" href=\"https://nbviewer.jupyter.org/github/rickiepark/python-machine-learning-book-3rd-edition/blob/master/ch17/ch17_part2.ipynb\"><img src=\"https://jupyter.org/assets/main-logo.svg\" width=\"28\" />주피터 노트북 뷰어로 보기</a>\n",
        "  </td>\n",
        "  <td>\n",
        "    <a target=\"_blank\" href=\"https://colab.research.google.com/github/rickiepark/python-machine-learning-book-3rd-edition/blob/master/ch17/ch17_part2.ipynb\"><img src=\"https://www.tensorflow.org/images/colab_logo_32px.png\" />구글 코랩(Colab)에서 실행하기</a>\n",
        "  </td>\n",
        "</table>"
      ]
    },
    {
      "cell_type": "markdown",
      "metadata": {
        "id": "ILMW7pJpo6TR"
      },
      "source": [
        "### 목차"
      ]
    },
    {
      "cell_type": "markdown",
      "metadata": {
        "id": "2XQEMAilo6TR"
      },
      "source": [
        "- 합성곱 GAN과 와서스테인 GAN을 사용하여 합성 이미지의 품질 높이기\n",
        "    - 전치 합성곱\n",
        "    - 배치 정규화\n",
        "    - 생성자와 판별자 구현하기\n",
        "    - 두 분포 사이의 거리 측정하기\n",
        "    - GAN에 EM 거리 사용하기\n",
        "    - 그래디언트 페널티\n",
        "    - WGAN-GP로 DCGAN 모델 훈련하기\n",
        "    - 모드 붕괴\n",
        "- 다른 GAN 애플리케이션\n",
        "- 요약"
      ]
    },
    {
      "cell_type": "code",
      "metadata": {
        "id": "fJJx82wno6TR"
      },
      "source": [
        "from IPython.display import Image"
      ],
      "execution_count": 1,
      "outputs": []
    },
    {
      "cell_type": "markdown",
      "metadata": {
        "id": "I8VoaURPo6TS"
      },
      "source": [
        "# 합성곱 GAN과 와서스테인 GAN을 사용하여 합성 이미지의 품질 높이기"
      ]
    },
    {
      "cell_type": "markdown",
      "metadata": {
        "id": "0J8TdXgIo6TS"
      },
      "source": [
        "## 전치 합성곱"
      ]
    },
    {
      "cell_type": "code",
      "metadata": {
        "colab": {
          "base_uri": "https://localhost:8080/",
          "height": 269
        },
        "id": "doWkKGeMo6TS",
        "outputId": "51eb9a4d-c2e2-45f3-b5b0-94c492c59597"
      },
      "source": [
        "Image(url='https://git.io/JLjn7', width=700)"
      ],
      "execution_count": 2,
      "outputs": [
        {
          "output_type": "execute_result",
          "data": {
            "text/html": [
              "<img src=\"https://git.io/JLjn7\" width=\"700\"/>"
            ],
            "text/plain": [
              "<IPython.core.display.Image object>"
            ]
          },
          "metadata": {
            "tags": []
          },
          "execution_count": 2
        }
      ]
    },
    {
      "cell_type": "code",
      "metadata": {
        "colab": {
          "base_uri": "https://localhost:8080/",
          "height": 361
        },
        "id": "wXQNEuWJo6TT",
        "outputId": "cf64f8e6-e15e-4134-e5d8-aaeafb84722b"
      },
      "source": [
        "Image(url='https://git.io/JLjnb', width=700)"
      ],
      "execution_count": 3,
      "outputs": [
        {
          "output_type": "execute_result",
          "data": {
            "text/html": [
              "<img src=\"https://git.io/JLjnb\" width=\"700\"/>"
            ],
            "text/plain": [
              "<IPython.core.display.Image object>"
            ]
          },
          "metadata": {
            "tags": []
          },
          "execution_count": 3
        }
      ]
    },
    {
      "cell_type": "markdown",
      "metadata": {
        "id": "v5OXSjCHo6TT"
      },
      "source": [
        "## 배치 정규화"
      ]
    },
    {
      "cell_type": "code",
      "metadata": {
        "colab": {
          "base_uri": "https://localhost:8080/",
          "height": 479
        },
        "id": "T8sfMSHio6TT",
        "outputId": "8bc56d39-a209-4bb3-a0ce-1d318dc72d2c"
      },
      "source": [
        "Image(url='https://git.io/JLjnA', width=700)"
      ],
      "execution_count": 4,
      "outputs": [
        {
          "output_type": "execute_result",
          "data": {
            "text/html": [
              "<img src=\"https://git.io/JLjnA\" width=\"700\"/>"
            ],
            "text/plain": [
              "<IPython.core.display.Image object>"
            ]
          },
          "metadata": {
            "tags": []
          },
          "execution_count": 4
        }
      ]
    },
    {
      "cell_type": "markdown",
      "metadata": {
        "id": "7pqd-bBPo6TT"
      },
      "source": [
        "## 생성자와 판별자 구현하기"
      ]
    },
    {
      "cell_type": "code",
      "metadata": {
        "colab": {
          "base_uri": "https://localhost:8080/",
          "height": 312
        },
        "id": "Botu3kjko6TT",
        "outputId": "3c6df3a5-4814-4db3-99e8-3b429962276f"
      },
      "source": [
        "Image(url='https://git.io/JLjnx', width=700)"
      ],
      "execution_count": 5,
      "outputs": [
        {
          "output_type": "execute_result",
          "data": {
            "text/html": [
              "<img src=\"https://git.io/JLjnx\" width=\"700\"/>"
            ],
            "text/plain": [
              "<IPython.core.display.Image object>"
            ]
          },
          "metadata": {
            "tags": []
          },
          "execution_count": 5
        }
      ]
    },
    {
      "cell_type": "code",
      "metadata": {
        "colab": {
          "base_uri": "https://localhost:8080/",
          "height": 386
        },
        "id": "bR-z6gxto6TU",
        "outputId": "6bdfc7b4-0c2d-4354-bac1-32626f4399e3"
      },
      "source": [
        "Image(url='https://git.io/JLjnj', width=700)"
      ],
      "execution_count": 6,
      "outputs": [
        {
          "output_type": "execute_result",
          "data": {
            "text/html": [
              "<img src=\"https://git.io/JLjnj\" width=\"700\"/>"
            ],
            "text/plain": [
              "<IPython.core.display.Image object>"
            ]
          },
          "metadata": {
            "tags": []
          },
          "execution_count": 6
        }
      ]
    },
    {
      "cell_type": "markdown",
      "metadata": {
        "id": "gjndBoHAo6TU"
      },
      "source": [
        " * **구글 코랩 설정**"
      ]
    },
    {
      "cell_type": "code",
      "metadata": {
        "id": "XnOWggQN3RbT"
      },
      "source": [
        "#from google.colab import drive\n",
        "#drive.mount('/content/drive/')"
      ],
      "execution_count": 7,
      "outputs": []
    },
    {
      "cell_type": "code",
      "metadata": {
        "colab": {
          "base_uri": "https://localhost:8080/"
        },
        "id": "O9XN3qSZ6Kbr",
        "outputId": "84f00745-d3fc-4ead-c671-e3cc816d2581"
      },
      "source": [
        "import tensorflow as tf\n",
        "\n",
        "\n",
        "print(tf.__version__)\n",
        "\n",
        "print(\"GPU 여부:\", len(tf.config.list_physical_devices('GPU')) > 0)\n",
        "\n",
        "if tf.config.list_physical_devices('GPU'):\n",
        "    device_name = tf.test.gpu_device_name()\n",
        "else:\n",
        "    device_name = 'CPU:0'\n",
        "    \n",
        "print(device_name)"
      ],
      "execution_count": 8,
      "outputs": [
        {
          "output_type": "stream",
          "text": [
            "2.5.0\n",
            "GPU 여부: True\n",
            "/device:GPU:0\n"
          ],
          "name": "stdout"
        }
      ]
    },
    {
      "cell_type": "code",
      "metadata": {
        "id": "VXasfQIW3XeR"
      },
      "source": [
        "import tensorflow_datasets as tfds\n",
        "import numpy as np\n",
        "import matplotlib.pyplot as plt\n",
        "%matplotlib inline"
      ],
      "execution_count": 9,
      "outputs": []
    },
    {
      "cell_type": "code",
      "metadata": {
        "id": "O9QIFmPZ3jjg"
      },
      "source": [
        "def make_dcgan_generator(\n",
        "        z_size=20, \n",
        "        output_size=(28, 28, 1),\n",
        "        n_filters=128, \n",
        "        n_blocks=2):\n",
        "    size_factor = 2**n_blocks\n",
        "    hidden_size = (\n",
        "        output_size[0]//size_factor, \n",
        "        output_size[1]//size_factor\n",
        "    )\n",
        "    \n",
        "    model = tf.keras.Sequential([\n",
        "        tf.keras.layers.Input(shape=(z_size,)),\n",
        "        \n",
        "        tf.keras.layers.Dense(\n",
        "            units=n_filters*np.prod(hidden_size), \n",
        "            use_bias=False),\n",
        "        tf.keras.layers.BatchNormalization(),\n",
        "        tf.keras.layers.LeakyReLU(),\n",
        "        tf.keras.layers.Reshape(\n",
        "            (hidden_size[0], hidden_size[1], n_filters)),\n",
        "    \n",
        "        tf.keras.layers.Conv2DTranspose(\n",
        "            filters=n_filters, kernel_size=(5, 5), strides=(1, 1),\n",
        "            padding='same', use_bias=False),\n",
        "        tf.keras.layers.BatchNormalization(),\n",
        "        tf.keras.layers.LeakyReLU()\n",
        "    ])\n",
        "        \n",
        "    nf = n_filters\n",
        "    for i in range(n_blocks):\n",
        "        nf = nf // 2\n",
        "        model.add(\n",
        "            tf.keras.layers.Conv2DTranspose(\n",
        "                filters=nf, kernel_size=(5, 5), strides=(2, 2),\n",
        "                padding='same', use_bias=False))\n",
        "        model.add(tf.keras.layers.BatchNormalization())\n",
        "        model.add(tf.keras.layers.LeakyReLU())\n",
        "                \n",
        "    model.add(\n",
        "        tf.keras.layers.Conv2DTranspose(\n",
        "            filters=output_size[2], kernel_size=(5, 5), \n",
        "            strides=(1, 1), padding='same', use_bias=False, \n",
        "            activation='tanh'))\n",
        "        \n",
        "    return model\n",
        "\n",
        "def make_dcgan_discriminator(\n",
        "        input_size=(28, 28, 1),\n",
        "        n_filters=64, \n",
        "        n_blocks=2):\n",
        "    model = tf.keras.Sequential([\n",
        "        tf.keras.layers.Input(shape=input_size),\n",
        "        tf.keras.layers.Conv2D(\n",
        "            filters=n_filters, kernel_size=5, \n",
        "            strides=(1, 1), padding='same'),\n",
        "        tf.keras.layers.BatchNormalization(),\n",
        "        tf.keras.layers.LeakyReLU()\n",
        "    ])\n",
        "    \n",
        "    nf = n_filters\n",
        "    for i in range(n_blocks):\n",
        "        nf = nf*2\n",
        "        model.add(\n",
        "            tf.keras.layers.Conv2D(\n",
        "                filters=nf, kernel_size=(5, 5), \n",
        "                strides=(2, 2),padding='same'))\n",
        "        model.add(tf.keras.layers.BatchNormalization())\n",
        "        model.add(tf.keras.layers.LeakyReLU())\n",
        "        model.add(tf.keras.layers.Dropout(0.3))\n",
        "        \n",
        "    model.add(tf.keras.layers.Conv2D(\n",
        "            filters=1, kernel_size=(7, 7), padding='valid'))\n",
        "    \n",
        "    model.add(tf.keras.layers.Reshape((1,)))\n",
        "    \n",
        "    return model"
      ],
      "execution_count": 10,
      "outputs": []
    },
    {
      "cell_type": "code",
      "metadata": {
        "colab": {
          "base_uri": "https://localhost:8080/"
        },
        "id": "DX4INL735ARw",
        "outputId": "7ca3f90b-1108-4b8a-d8ca-96c8a1c17ec9"
      },
      "source": [
        "gen_model = make_dcgan_generator()\n",
        "gen_model.summary()\n",
        "\n",
        "disc_model = make_dcgan_discriminator()\n",
        "disc_model.summary()"
      ],
      "execution_count": 11,
      "outputs": [
        {
          "output_type": "stream",
          "text": [
            "WARNING:tensorflow:Please add `keras.layers.InputLayer` instead of `keras.Input` to Sequential model. `keras.Input` is intended to be used by Functional model.\n",
            "Model: \"sequential\"\n",
            "_________________________________________________________________\n",
            "Layer (type)                 Output Shape              Param #   \n",
            "=================================================================\n",
            "dense (Dense)                (None, 6272)              125440    \n",
            "_________________________________________________________________\n",
            "batch_normalization (BatchNo (None, 6272)              25088     \n",
            "_________________________________________________________________\n",
            "leaky_re_lu (LeakyReLU)      (None, 6272)              0         \n",
            "_________________________________________________________________\n",
            "reshape (Reshape)            (None, 7, 7, 128)         0         \n",
            "_________________________________________________________________\n",
            "conv2d_transpose (Conv2DTran (None, 7, 7, 128)         409600    \n",
            "_________________________________________________________________\n",
            "batch_normalization_1 (Batch (None, 7, 7, 128)         512       \n",
            "_________________________________________________________________\n",
            "leaky_re_lu_1 (LeakyReLU)    (None, 7, 7, 128)         0         \n",
            "_________________________________________________________________\n",
            "conv2d_transpose_1 (Conv2DTr (None, 14, 14, 64)        204800    \n",
            "_________________________________________________________________\n",
            "batch_normalization_2 (Batch (None, 14, 14, 64)        256       \n",
            "_________________________________________________________________\n",
            "leaky_re_lu_2 (LeakyReLU)    (None, 14, 14, 64)        0         \n",
            "_________________________________________________________________\n",
            "conv2d_transpose_2 (Conv2DTr (None, 28, 28, 32)        51200     \n",
            "_________________________________________________________________\n",
            "batch_normalization_3 (Batch (None, 28, 28, 32)        128       \n",
            "_________________________________________________________________\n",
            "leaky_re_lu_3 (LeakyReLU)    (None, 28, 28, 32)        0         \n",
            "_________________________________________________________________\n",
            "conv2d_transpose_3 (Conv2DTr (None, 28, 28, 1)         800       \n",
            "=================================================================\n",
            "Total params: 817,824\n",
            "Trainable params: 804,832\n",
            "Non-trainable params: 12,992\n",
            "_________________________________________________________________\n",
            "WARNING:tensorflow:Please add `keras.layers.InputLayer` instead of `keras.Input` to Sequential model. `keras.Input` is intended to be used by Functional model.\n",
            "Model: \"sequential_1\"\n",
            "_________________________________________________________________\n",
            "Layer (type)                 Output Shape              Param #   \n",
            "=================================================================\n",
            "conv2d (Conv2D)              (None, 28, 28, 64)        1664      \n",
            "_________________________________________________________________\n",
            "batch_normalization_4 (Batch (None, 28, 28, 64)        256       \n",
            "_________________________________________________________________\n",
            "leaky_re_lu_4 (LeakyReLU)    (None, 28, 28, 64)        0         \n",
            "_________________________________________________________________\n",
            "conv2d_1 (Conv2D)            (None, 14, 14, 128)       204928    \n",
            "_________________________________________________________________\n",
            "batch_normalization_5 (Batch (None, 14, 14, 128)       512       \n",
            "_________________________________________________________________\n",
            "leaky_re_lu_5 (LeakyReLU)    (None, 14, 14, 128)       0         \n",
            "_________________________________________________________________\n",
            "dropout (Dropout)            (None, 14, 14, 128)       0         \n",
            "_________________________________________________________________\n",
            "conv2d_2 (Conv2D)            (None, 7, 7, 256)         819456    \n",
            "_________________________________________________________________\n",
            "batch_normalization_6 (Batch (None, 7, 7, 256)         1024      \n",
            "_________________________________________________________________\n",
            "leaky_re_lu_6 (LeakyReLU)    (None, 7, 7, 256)         0         \n",
            "_________________________________________________________________\n",
            "dropout_1 (Dropout)          (None, 7, 7, 256)         0         \n",
            "_________________________________________________________________\n",
            "conv2d_3 (Conv2D)            (None, 1, 1, 1)           12545     \n",
            "_________________________________________________________________\n",
            "reshape_1 (Reshape)          (None, 1)                 0         \n",
            "=================================================================\n",
            "Total params: 1,040,385\n",
            "Trainable params: 1,039,489\n",
            "Non-trainable params: 896\n",
            "_________________________________________________________________\n"
          ],
          "name": "stdout"
        }
      ]
    },
    {
      "cell_type": "markdown",
      "metadata": {
        "id": "72tpmJjOo6TV"
      },
      "source": [
        "## 두 분포 사이의 거리 측정하기"
      ]
    },
    {
      "cell_type": "code",
      "metadata": {
        "colab": {
          "base_uri": "https://localhost:8080/",
          "height": 356
        },
        "id": "-bKtNGBbo6TV",
        "outputId": "4f849f47-3c92-4547-a9cc-754cb3aa23b5"
      },
      "source": [
        "Image(url='https://git.io/JLjcf', width=700)"
      ],
      "execution_count": 12,
      "outputs": [
        {
          "output_type": "execute_result",
          "data": {
            "text/html": [
              "<img src=\"https://git.io/JLjcf\" width=\"700\"/>"
            ],
            "text/plain": [
              "<IPython.core.display.Image object>"
            ]
          },
          "metadata": {
            "tags": []
          },
          "execution_count": 12
        }
      ]
    },
    {
      "cell_type": "code",
      "metadata": {
        "colab": {
          "base_uri": "https://localhost:8080/",
          "height": 555
        },
        "id": "QGqJNr5so6TW",
        "outputId": "f94d1ae4-3782-4967-bbdb-65ee4459c165"
      },
      "source": [
        "Image(url='https://git.io/JLjcJ', width=800)"
      ],
      "execution_count": 13,
      "outputs": [
        {
          "output_type": "execute_result",
          "data": {
            "text/html": [
              "<img src=\"https://git.io/JLjcJ\" width=\"800\"/>"
            ],
            "text/plain": [
              "<IPython.core.display.Image object>"
            ]
          },
          "metadata": {
            "tags": []
          },
          "execution_count": 13
        }
      ]
    },
    {
      "cell_type": "markdown",
      "metadata": {
        "id": "MGNV_luKo6TW"
      },
      "source": [
        "## GAN에 EM 거리 사용하기\n",
        "\n",
        "## 그래디언트 페널티\n",
        "\n",
        "## WGAN-GP로 DCGAN 모델 훈련하기"
      ]
    },
    {
      "cell_type": "code",
      "metadata": {
        "colab": {
          "base_uri": "https://localhost:8080/",
          "height": 225,
          "referenced_widgets": [
            "0b020b386d0449b4a99329f97d4ab7a2",
            "5e7fd216abb24574ae7b741f1baa1a53",
            "1d899d678d814dde9e9abc37164dd91e",
            "41a3c443129e4d5ea38b844035688000",
            "f2dad0844d474ada980d4e5b156773ce",
            "a64990dda2c3403296a1b9e0a0ab6452",
            "75b544c8684843a3b01ba4daef2a7f9e",
            "99b3c33920774997a9b56311b065691a"
          ]
        },
        "id": "-iAGk1Ta6xmQ",
        "outputId": "5420a1ca-13c8-48b1-d1a8-4c48eee4fddc"
      },
      "source": [
        "mnist_bldr = tfds.builder('mnist')\n",
        "mnist_bldr.download_and_prepare()\n",
        "mnist = mnist_bldr.as_dataset(shuffle_files=False)\n",
        "\n",
        "def preprocess(ex, mode='uniform'):\n",
        "    image = ex['image']\n",
        "    image = tf.image.convert_image_dtype(image, tf.float32)\n",
        "\n",
        "    image = image*2 - 1.0\n",
        "    if mode == 'uniform':\n",
        "        input_z = tf.random.uniform(\n",
        "            shape=(z_size,), minval=-1.0, maxval=1.0)\n",
        "    elif mode == 'normal':\n",
        "        input_z = tf.random.normal(shape=(z_size,))\n",
        "    return input_z, image"
      ],
      "execution_count": 14,
      "outputs": [
        {
          "output_type": "stream",
          "text": [
            "\u001b[1mDownloading and preparing dataset mnist/3.0.1 (download: 11.06 MiB, generated: 21.00 MiB, total: 32.06 MiB) to /root/tensorflow_datasets/mnist/3.0.1...\u001b[0m\n"
          ],
          "name": "stdout"
        },
        {
          "output_type": "stream",
          "text": [
            "WARNING:absl:Dataset mnist is hosted on GCS. It will automatically be downloaded to your\n",
            "local data directory. If you'd instead prefer to read directly from our public\n",
            "GCS bucket (recommended if you're running on GCP), you can instead pass\n",
            "`try_gcs=True` to `tfds.load` or set `data_dir=gs://tfds-data/datasets`.\n",
            "\n"
          ],
          "name": "stderr"
        },
        {
          "output_type": "display_data",
          "data": {
            "application/vnd.jupyter.widget-view+json": {
              "model_id": "0b020b386d0449b4a99329f97d4ab7a2",
              "version_minor": 0,
              "version_major": 2
            },
            "text/plain": [
              "HBox(children=(FloatProgress(value=0.0, description='Dl Completed...', max=4.0, style=ProgressStyle(descriptio…"
            ]
          },
          "metadata": {
            "tags": []
          }
        },
        {
          "output_type": "stream",
          "text": [
            "\n",
            "\n",
            "\u001b[1mDataset mnist downloaded and prepared to /root/tensorflow_datasets/mnist/3.0.1. Subsequent calls will reuse this data.\u001b[0m\n"
          ],
          "name": "stdout"
        }
      ]
    },
    {
      "cell_type": "code",
      "metadata": {
        "colab": {
          "base_uri": "https://localhost:8080/"
        },
        "id": "HCX0mOwEo6TW",
        "outputId": "8ae88d18-4e39-4622-a18c-eecc0a38de60"
      },
      "source": [
        "num_epochs = 100\n",
        "batch_size = 128\n",
        "image_size = (28, 28)\n",
        "z_size = 20\n",
        "mode_z = 'uniform'\n",
        "lambda_gp = 10.0\n",
        "\n",
        "tf.random.set_seed(1)\n",
        "np.random.seed(1)\n",
        "\n",
        "## 데이터셋 준비\n",
        "mnist_trainset = mnist['train']\n",
        "mnist_trainset = mnist_trainset.map(preprocess)\n",
        "\n",
        "mnist_trainset = mnist_trainset.shuffle(10000)\n",
        "mnist_trainset = mnist_trainset.batch(\n",
        "    batch_size, drop_remainder=True)\n",
        "\n",
        "## 모델 생성\n",
        "with tf.device(device_name):\n",
        "    gen_model = make_dcgan_generator()\n",
        "    gen_model.build(input_shape=(None, z_size))\n",
        "    gen_model.summary()\n",
        "\n",
        "    disc_model = make_dcgan_discriminator()\n",
        "    disc_model.build(input_shape=(None, np.prod(image_size)))\n",
        "    disc_model.summary()"
      ],
      "execution_count": 15,
      "outputs": [
        {
          "output_type": "stream",
          "text": [
            "WARNING:tensorflow:Please add `keras.layers.InputLayer` instead of `keras.Input` to Sequential model. `keras.Input` is intended to be used by Functional model.\n"
          ],
          "name": "stdout"
        },
        {
          "output_type": "stream",
          "text": [
            "WARNING:tensorflow:Please add `keras.layers.InputLayer` instead of `keras.Input` to Sequential model. `keras.Input` is intended to be used by Functional model.\n"
          ],
          "name": "stderr"
        },
        {
          "output_type": "stream",
          "text": [
            "Model: \"sequential_2\"\n",
            "_________________________________________________________________\n",
            "Layer (type)                 Output Shape              Param #   \n",
            "=================================================================\n",
            "dense_1 (Dense)              (None, 6272)              125440    \n",
            "_________________________________________________________________\n",
            "batch_normalization_7 (Batch (None, 6272)              25088     \n",
            "_________________________________________________________________\n",
            "leaky_re_lu_7 (LeakyReLU)    (None, 6272)              0         \n",
            "_________________________________________________________________\n",
            "reshape_2 (Reshape)          (None, 7, 7, 128)         0         \n",
            "_________________________________________________________________\n",
            "conv2d_transpose_4 (Conv2DTr (None, 7, 7, 128)         409600    \n",
            "_________________________________________________________________\n",
            "batch_normalization_8 (Batch (None, 7, 7, 128)         512       \n",
            "_________________________________________________________________\n",
            "leaky_re_lu_8 (LeakyReLU)    (None, 7, 7, 128)         0         \n",
            "_________________________________________________________________\n",
            "conv2d_transpose_5 (Conv2DTr (None, 14, 14, 64)        204800    \n",
            "_________________________________________________________________\n",
            "batch_normalization_9 (Batch (None, 14, 14, 64)        256       \n",
            "_________________________________________________________________\n",
            "leaky_re_lu_9 (LeakyReLU)    (None, 14, 14, 64)        0         \n",
            "_________________________________________________________________\n",
            "conv2d_transpose_6 (Conv2DTr (None, 28, 28, 32)        51200     \n",
            "_________________________________________________________________\n",
            "batch_normalization_10 (Batc (None, 28, 28, 32)        128       \n",
            "_________________________________________________________________\n",
            "leaky_re_lu_10 (LeakyReLU)   (None, 28, 28, 32)        0         \n",
            "_________________________________________________________________\n",
            "conv2d_transpose_7 (Conv2DTr (None, 28, 28, 1)         800       \n",
            "=================================================================\n",
            "Total params: 817,824\n",
            "Trainable params: 804,832\n",
            "Non-trainable params: 12,992\n",
            "_________________________________________________________________\n",
            "WARNING:tensorflow:Please add `keras.layers.InputLayer` instead of `keras.Input` to Sequential model. `keras.Input` is intended to be used by Functional model.\n"
          ],
          "name": "stdout"
        },
        {
          "output_type": "stream",
          "text": [
            "WARNING:tensorflow:Please add `keras.layers.InputLayer` instead of `keras.Input` to Sequential model. `keras.Input` is intended to be used by Functional model.\n"
          ],
          "name": "stderr"
        },
        {
          "output_type": "stream",
          "text": [
            "Model: \"sequential_3\"\n",
            "_________________________________________________________________\n",
            "Layer (type)                 Output Shape              Param #   \n",
            "=================================================================\n",
            "conv2d_4 (Conv2D)            (None, 28, 28, 64)        1664      \n",
            "_________________________________________________________________\n",
            "batch_normalization_11 (Batc (None, 28, 28, 64)        256       \n",
            "_________________________________________________________________\n",
            "leaky_re_lu_11 (LeakyReLU)   (None, 28, 28, 64)        0         \n",
            "_________________________________________________________________\n",
            "conv2d_5 (Conv2D)            (None, 14, 14, 128)       204928    \n",
            "_________________________________________________________________\n",
            "batch_normalization_12 (Batc (None, 14, 14, 128)       512       \n",
            "_________________________________________________________________\n",
            "leaky_re_lu_12 (LeakyReLU)   (None, 14, 14, 128)       0         \n",
            "_________________________________________________________________\n",
            "dropout_2 (Dropout)          (None, 14, 14, 128)       0         \n",
            "_________________________________________________________________\n",
            "conv2d_6 (Conv2D)            (None, 7, 7, 256)         819456    \n",
            "_________________________________________________________________\n",
            "batch_normalization_13 (Batc (None, 7, 7, 256)         1024      \n",
            "_________________________________________________________________\n",
            "leaky_re_lu_13 (LeakyReLU)   (None, 7, 7, 256)         0         \n",
            "_________________________________________________________________\n",
            "dropout_3 (Dropout)          (None, 7, 7, 256)         0         \n",
            "_________________________________________________________________\n",
            "conv2d_7 (Conv2D)            (None, 1, 1, 1)           12545     \n",
            "_________________________________________________________________\n",
            "reshape_3 (Reshape)          (None, 1)                 0         \n",
            "=================================================================\n",
            "Total params: 1,040,385\n",
            "Trainable params: 1,039,489\n",
            "Non-trainable params: 896\n",
            "_________________________________________________________________\n"
          ],
          "name": "stdout"
        }
      ]
    },
    {
      "cell_type": "code",
      "metadata": {
        "colab": {
          "base_uri": "https://localhost:8080/"
        },
        "id": "caAjzvI_o6TW",
        "outputId": "71bd209c-4f5e-4acd-fd4a-62d856cfadd1"
      },
      "source": [
        "import time\n",
        "\n",
        "\n",
        "## 옵티마이저:\n",
        "g_optimizer = tf.keras.optimizers.Adam(0.0002)\n",
        "d_optimizer = tf.keras.optimizers.Adam(0.0002)\n",
        "\n",
        "if mode_z == 'uniform':\n",
        "    fixed_z = tf.random.uniform(\n",
        "        shape=(batch_size, z_size),\n",
        "        minval=-1, maxval=1)\n",
        "elif mode_z == 'normal':\n",
        "    fixed_z = tf.random.normal(\n",
        "        shape=(batch_size, z_size))\n",
        "\n",
        "def create_samples(g_model, input_z):\n",
        "    g_output = g_model(input_z, training=False)\n",
        "    images = tf.reshape(g_output, (batch_size, *image_size))    \n",
        "    return (images+1)/2.0\n",
        "\n",
        "all_losses = []\n",
        "epoch_samples = []\n",
        "\n",
        "start_time = time.time()\n",
        "\n",
        "for epoch in range(1, num_epochs+1):\n",
        "    epoch_losses = []\n",
        "    for i,(input_z,input_real) in enumerate(mnist_trainset):\n",
        "        \n",
        "        with tf.GradientTape() as d_tape, tf.GradientTape() as g_tape:\n",
        "            g_output = gen_model(input_z, training=True)\n",
        "            \n",
        "            d_critics_real = disc_model(input_real, training=True)\n",
        "            d_critics_fake = disc_model(g_output, training=True)\n",
        "\n",
        "            ## 생성자 손실을 계산합니다:\n",
        "            g_loss = -tf.math.reduce_mean(d_critics_fake)\n",
        "\n",
        "            ## 판별자 손실을 계산합니다:\n",
        "            d_loss_real = -tf.math.reduce_mean(d_critics_real)\n",
        "            d_loss_fake =  tf.math.reduce_mean(d_critics_fake)\n",
        "            d_loss = d_loss_real + d_loss_fake\n",
        "\n",
        "            ## 그래디언트 페널티:\n",
        "            with tf.GradientTape() as gp_tape:\n",
        "                alpha = tf.random.uniform(\n",
        "                    shape=[d_critics_real.shape[0], 1, 1, 1], \n",
        "                    minval=0.0, maxval=1.0)\n",
        "                interpolated = (\n",
        "                    alpha*input_real + (1-alpha)*g_output)\n",
        "                gp_tape.watch(interpolated)\n",
        "                d_critics_intp = disc_model(interpolated)\n",
        "            \n",
        "            grads_intp = gp_tape.gradient(\n",
        "                d_critics_intp, [interpolated,])[0]\n",
        "            grads_intp_l2 = tf.sqrt(\n",
        "                tf.reduce_sum(tf.square(grads_intp), axis=[1, 2, 3]))\n",
        "            grad_penalty = tf.reduce_mean(tf.square(grads_intp_l2 - 1.0))\n",
        "        \n",
        "            d_loss = d_loss + lambda_gp*grad_penalty\n",
        "        \n",
        "        ## 최적화: 그래디언트를 계산하고 적용합니다\n",
        "        d_grads = d_tape.gradient(d_loss, disc_model.trainable_variables)\n",
        "        d_optimizer.apply_gradients(\n",
        "            grads_and_vars=zip(d_grads, disc_model.trainable_variables))\n",
        "        \n",
        "        g_grads = g_tape.gradient(g_loss, gen_model.trainable_variables)\n",
        "        g_optimizer.apply_gradients(\n",
        "            grads_and_vars=zip(g_grads, gen_model.trainable_variables))\n",
        "\n",
        "        epoch_losses.append(\n",
        "            (g_loss.numpy(), d_loss.numpy(), \n",
        "             d_loss_real.numpy(), d_loss_fake.numpy()))\n",
        "                    \n",
        "    all_losses.append(epoch_losses)\n",
        "    \n",
        "    print('에포크 {:-3d} | 시간 {:.2f} min | 평균 손실 >>'\n",
        "          ' 생성자/판별자 {:6.2f}/{:6.2f} [판별자-진짜: {:6.2f} 판별자-가짜: {:6.2f}]'\n",
        "          .format(epoch, (time.time() - start_time)/60, \n",
        "                  *list(np.mean(all_losses[-1], axis=0)))\n",
        "    )\n",
        "    \n",
        "    epoch_samples.append(\n",
        "        create_samples(gen_model, fixed_z).numpy()\n",
        "    )"
      ],
      "execution_count": 16,
      "outputs": [
        {
          "output_type": "stream",
          "text": [
            "에포크   1 | 시간 2.08 min | 평균 손실 >> 생성자/판별자 283.10/-476.81 [판별자-진짜: -289.96 판별자-가짜: -283.10]\n",
            "에포크   2 | 시간 4.44 min | 평균 손실 >> 생성자/판별자 189.27/-97.35 [판별자-진짜: -121.62 판별자-가짜: -189.27]\n",
            "에포크   3 | 시간 6.02 min | 평균 손실 >> 생성자/판별자 119.57/  4.14 [판별자-진짜: -39.31 판별자-가짜: -119.57]\n",
            "에포크   4 | 시간 7.60 min | 평균 손실 >> 생성자/판별자  77.91/ 12.23 [판별자-진짜:  -7.00 판별자-가짜: -77.91]\n",
            "에포크   5 | 시간 9.19 min | 평균 손실 >> 생성자/판별자  59.22/  3.80 [판별자-진짜:  10.37 판별자-가짜: -59.22]\n",
            "에포크   6 | 시간 10.78 min | 평균 손실 >> 생성자/판별자  54.91/  2.32 [판별자-진짜:  24.18 판별자-가짜: -54.91]\n",
            "에포크   7 | 시간 12.36 min | 평균 손실 >> 생성자/판별자  46.75/-22.53 [판별자-진짜:  11.73 판별자-가짜: -46.75]\n",
            "에포크   8 | 시간 13.95 min | 평균 손실 >> 생성자/판별자  63.99/-24.41 [판별자-진짜:  31.84 판별자-가짜: -63.99]\n",
            "에포크   9 | 시간 15.54 min | 평균 손실 >> 생성자/판별자  34.04/-27.76 [판별자-진짜:  -0.67 판별자-가짜: -34.04]\n",
            "에포크  10 | 시간 17.12 min | 평균 손실 >> 생성자/판별자  57.81/-38.25 [판별자-진짜:   8.48 판별자-가짜: -57.81]\n",
            "에포크  11 | 시간 18.71 min | 평균 손실 >> 생성자/판별자  50.53/-51.54 [판별자-진짜: -12.89 판별자-가짜: -50.53]\n",
            "에포크  12 | 시간 20.30 min | 평균 손실 >> 생성자/판별자  81.36/-49.06 [판별자-진짜:  14.41 판별자-가짜: -81.36]\n",
            "에포크  13 | 시간 21.88 min | 평균 손실 >> 생성자/판별자  73.77/-55.50 [판별자-진짜:  -2.16 판별자-가짜: -73.77]\n",
            "에포크  14 | 시간 23.47 min | 평균 손실 >> 생성자/판별자  85.43/-37.77 [판별자-진짜:  32.72 판별자-가짜: -85.43]\n",
            "에포크  15 | 시간 25.05 min | 평균 손실 >> 생성자/판별자 106.00/-44.54 [판별자-진짜:  50.36 판별자-가짜: -106.00]\n",
            "에포크  16 | 시간 26.64 min | 평균 손실 >> 생성자/판별자  99.93/-39.48 [판별자-진짜:  49.27 판별자-가짜: -99.93]\n",
            "에포크  17 | 시간 28.22 min | 평균 손실 >> 생성자/판별자  86.02/-43.67 [판별자-진짜:  33.71 판별자-가짜: -86.02]\n",
            "에포크  18 | 시간 29.81 min | 평균 손실 >> 생성자/판별자 134.91/-51.54 [판별자-진짜:  64.09 판별자-가짜: -134.91]\n",
            "에포크  19 | 시간 31.40 min | 평균 손실 >> 생성자/판별자 142.86/-44.40 [판별자-진짜:  72.68 판별자-가짜: -142.86]\n",
            "에포크  20 | 시간 32.98 min | 평균 손실 >> 생성자/판별자 125.00/-43.50 [판별자-진짜:  68.16 판별자-가짜: -125.00]\n",
            "에포크  21 | 시간 34.57 min | 평균 손실 >> 생성자/판별자 146.09/-47.98 [판별자-진짜:  84.76 판별자-가짜: -146.09]\n",
            "에포크  22 | 시간 36.16 min | 평균 손실 >> 생성자/판별자 155.12/-53.15 [판별자-진짜:  87.83 판별자-가짜: -155.12]\n",
            "에포크  23 | 시간 37.74 min | 평균 손실 >> 생성자/판별자 182.87/-24.29 [판별자-진짜: 128.82 판별자-가짜: -182.87]\n",
            "에포크  24 | 시간 39.33 min | 평균 손실 >> 생성자/판별자 146.73/ -9.00 [판별자-진짜: 123.57 판별자-가짜: -146.73]\n",
            "에포크  25 | 시간 40.91 min | 평균 손실 >> 생성자/판별자 143.72/-58.86 [판별자-진짜:  67.15 판별자-가짜: -143.72]\n",
            "에포크  26 | 시간 42.50 min | 평균 손실 >> 생성자/판별자 166.97/-50.49 [판별자-진짜:  98.60 판별자-가짜: -166.97]\n",
            "에포크  27 | 시간 44.08 min | 평균 손실 >> 생성자/판별자 233.61/-50.11 [판별자-진짜: 175.11 판별자-가짜: -233.61]\n",
            "에포크  28 | 시간 45.67 min | 평균 손실 >> 생성자/판별자 194.23/-45.82 [판별자-진짜: 130.43 판별자-가짜: -194.23]\n",
            "에포크  29 | 시간 47.25 min | 평균 손실 >> 생성자/판별자 214.61/-51.46 [판별자-진짜: 153.63 판별자-가짜: -214.61]\n",
            "에포크  30 | 시간 48.84 min | 평균 손실 >> 생성자/판별자 177.28/-52.27 [판별자-진짜: 110.03 판별자-가짜: -177.28]\n",
            "에포크  31 | 시간 50.43 min | 평균 손실 >> 생성자/판별자 247.78/-51.37 [판별자-진짜: 158.93 판별자-가짜: -247.78]\n",
            "에포크  32 | 시간 52.01 min | 평균 손실 >> 생성자/판별자 205.59/ 78.96 [판별자-진짜: 142.03 판별자-가짜: -205.59]\n",
            "에포크  33 | 시간 53.60 min | 평균 손실 >> 생성자/판별자  94.18/ -0.41 [판별자-진짜:  92.19 판별자-가짜: -94.18]\n",
            "에포크  34 | 시간 55.18 min | 평균 손실 >> 생성자/판별자  99.22/ -3.76 [판별자-진짜:  92.85 판별자-가짜: -99.22]\n",
            "에포크  35 | 시간 56.77 min | 평균 손실 >> 생성자/판별자 137.03/ -7.98 [판별자-진짜: 117.45 판별자-가짜: -137.03]\n",
            "에포크  36 | 시간 58.35 min | 평균 손실 >> 생성자/판별자 323.10/-16.11 [판별자-진짜: 300.04 판별자-가짜: -323.10]\n",
            "에포크  37 | 시간 59.94 min | 평균 손실 >> 생성자/판별자 272.31/-34.03 [판별자-진짜: 233.70 판별자-가짜: -272.31]\n",
            "에포크  38 | 시간 61.53 min | 평균 손실 >> 생성자/판별자 288.09/-20.97 [판별자-진짜: 253.95 판별자-가짜: -288.09]\n",
            "에포크  39 | 시간 63.11 min | 평균 손실 >> 생성자/판별자 235.55/-21.11 [판별자-진짜: 213.34 판별자-가짜: -235.55]\n",
            "에포크  40 | 시간 64.70 min | 평균 손실 >> 생성자/판별자 295.69/-44.86 [판별자-진짜: 241.56 판별자-가짜: -295.69]\n",
            "에포크  41 | 시간 66.29 min | 평균 손실 >> 생성자/판별자 352.57/-29.39 [판별자-진짜: 283.11 판별자-가짜: -352.57]\n",
            "에포크  42 | 시간 67.87 min | 평균 손실 >> 생성자/판별자 365.24/ -2.51 [판별자-진짜: 340.90 판별자-가짜: -365.24]\n",
            "에포크  43 | 시간 69.46 min | 평균 손실 >> 생성자/판별자 373.60/-23.14 [판별자-진짜: 342.04 판별자-가짜: -373.60]\n",
            "에포크  44 | 시간 71.05 min | 평균 손실 >> 생성자/판별자 383.23/-34.16 [판별자-진짜: 344.36 판별자-가짜: -383.23]\n",
            "에포크  45 | 시간 72.65 min | 평균 손실 >> 생성자/판별자 377.88/-33.11 [판별자-진짜: 338.88 판별자-가짜: -377.88]\n",
            "에포크  46 | 시간 74.24 min | 평균 손실 >> 생성자/판별자 378.95/-39.33 [판별자-진짜: 333.21 판별자-가짜: -378.95]\n",
            "에포크  47 | 시간 75.83 min | 평균 손실 >> 생성자/판별자 388.77/-41.32 [판별자-진짜: 339.39 판별자-가짜: -388.77]\n",
            "에포크  48 | 시간 77.43 min | 평균 손실 >> 생성자/판별자 254.78/-41.12 [판별자-진짜: 211.93 판별자-가짜: -254.78]\n",
            "에포크  49 | 시간 79.02 min | 평균 손실 >> 생성자/판별자 243.04/-41.55 [판별자-진짜: 192.62 판별자-가짜: -243.04]\n",
            "에포크  50 | 시간 80.61 min | 평균 손실 >> 생성자/판별자 266.68/-23.41 [판별자-진짜: 239.82 판별자-가짜: -266.68]\n",
            "에포크  51 | 시간 82.20 min | 평균 손실 >> 생성자/판별자 274.51/-10.04 [판별자-진짜: 228.09 판별자-가짜: -274.51]\n",
            "에포크  52 | 시간 83.79 min | 평균 손실 >> 생성자/판별자 301.56/-39.72 [판별자-진짜: 258.56 판별자-가짜: -301.56]\n",
            "에포크  53 | 시간 85.39 min | 평균 손실 >> 생성자/판별자 348.91/-45.92 [판별자-진짜: 296.94 판별자-가짜: -348.91]\n",
            "에포크  54 | 시간 86.97 min | 평균 손실 >> 생성자/판별자 382.82/-26.76 [판별자-진짜: 346.20 판별자-가짜: -382.82]\n",
            "에포크  55 | 시간 88.56 min | 평균 손실 >> 생성자/판별자 215.72/-38.24 [판별자-진짜: 170.29 판별자-가짜: -215.72]\n",
            "에포크  56 | 시간 90.15 min | 평균 손실 >> 생성자/판별자 324.79/ -5.42 [판별자-진짜: 281.43 판별자-가짜: -324.79]\n",
            "에포크  57 | 시간 91.74 min | 평균 손실 >> 생성자/판별자 378.32/-26.18 [판별자-진짜: 342.24 판별자-가짜: -378.32]\n",
            "에포크  58 | 시간 93.33 min | 평균 손실 >> 생성자/판별자 266.90/-45.29 [판별자-진짜: 212.12 판별자-가짜: -266.90]\n",
            "에포크  59 | 시간 94.91 min | 평균 손실 >> 생성자/판별자 340.60/-44.32 [판별자-진짜: 286.63 판별자-가짜: -340.60]\n",
            "에포크  60 | 시간 96.50 min | 평균 손실 >> 생성자/판별자 421.31/-45.61 [판별자-진짜: 353.05 판별자-가짜: -421.31]\n",
            "에포크  61 | 시간 98.09 min | 평균 손실 >> 생성자/판별자 489.80/-56.29 [판별자-진짜: 415.94 판별자-가짜: -489.80]\n",
            "에포크  62 | 시간 99.68 min | 평균 손실 >> 생성자/판별자 367.42/-44.07 [판별자-진짜: 304.61 판별자-가짜: -367.42]\n",
            "에포크  63 | 시간 101.27 min | 평균 손실 >> 생성자/판별자 481.16/-66.03 [판별자-진짜: 400.12 판별자-가짜: -481.16]\n",
            "에포크  64 | 시간 102.85 min | 평균 손실 >> 생성자/판별자 503.69/-70.70 [판별자-진짜: 419.83 판별자-가짜: -503.69]\n",
            "에포크  65 | 시간 104.44 min | 평균 손실 >> 생성자/판별자 519.07/-64.54 [판별자-진짜: 426.82 판별자-가짜: -519.07]\n",
            "에포크  66 | 시간 106.03 min | 평균 손실 >> 생성자/판별자 562.61/-81.04 [판별자-진짜: 468.89 판별자-가짜: -562.61]\n",
            "에포크  67 | 시간 107.61 min | 평균 손실 >> 생성자/판별자 662.94/-87.24 [판별자-진짜: 557.57 판별자-가짜: -662.94]\n",
            "에포크  68 | 시간 109.20 min | 평균 손실 >> 생성자/판별자 705.87/-57.09 [판별자-진짜: 581.21 판별자-가짜: -705.87]\n",
            "에포크  69 | 시간 110.79 min | 평균 손실 >> 생성자/판별자 644.08/-73.29 [판별자-진짜: 546.42 판별자-가짜: -644.08]\n",
            "에포크  70 | 시간 112.38 min | 평균 손실 >> 생성자/판별자 638.16/-80.58 [판별자-진짜: 548.83 판별자-가짜: -638.16]\n",
            "에포크  71 | 시간 113.96 min | 평균 손실 >> 생성자/판별자 621.21/-74.22 [판별자-진짜: 541.12 판별자-가짜: -621.21]\n",
            "에포크  72 | 시간 115.55 min | 평균 손실 >> 생성자/판별자 801.82/-96.26 [판별자-진짜: 691.24 판별자-가짜: -801.82]\n",
            "에포크  73 | 시간 117.14 min | 평균 손실 >> 생성자/판별자 743.33/-99.03 [판별자-진짜: 627.66 판별자-가짜: -743.33]\n",
            "에포크  74 | 시간 118.73 min | 평균 손실 >> 생성자/판별자 816.11/-106.54 [판별자-진짜: 697.31 판별자-가짜: -816.11]\n",
            "에포크  75 | 시간 120.32 min | 평균 손실 >> 생성자/판별자 796.00/-130.05 [판별자-진짜: 650.13 판별자-가짜: -796.00]\n",
            "에포크  76 | 시간 121.91 min | 평균 손실 >> 생성자/판별자 817.40/-115.79 [판별자-진짜: 683.22 판별자-가짜: -817.40]\n",
            "에포크  77 | 시간 123.50 min | 평균 손실 >> 생성자/판별자 867.81/-94.73 [판별자-진짜: 746.26 판별자-가짜: -867.81]\n",
            "에포크  78 | 시간 125.08 min | 평균 손실 >> 생성자/판별자 1011.45/-123.04 [판별자-진짜: 874.13 판별자-가짜: -1011.45]\n",
            "에포크  79 | 시간 126.67 min | 평균 손실 >> 생성자/판별자 831.69/-111.98 [판별자-진짜: 700.22 판별자-가짜: -831.69]\n",
            "에포크  80 | 시간 128.26 min | 평균 손실 >> 생성자/판별자 1186.94/-131.91 [판별자-진짜: 1019.03 판별자-가짜: -1186.94]\n",
            "에포크  81 | 시간 129.85 min | 평균 손실 >> 생성자/판별자 1126.13/-138.82 [판별자-진짜: 975.16 판별자-가짜: -1126.13]\n",
            "에포크  82 | 시간 131.44 min | 평균 손실 >> 생성자/판별자 1017.70/-124.08 [판별자-진짜: 867.71 판별자-가짜: -1017.70]\n",
            "에포크  83 | 시간 133.02 min | 평균 손실 >> 생성자/판별자 1279.84/-167.04 [판별자-진짜: 1085.94 판별자-가짜: -1279.84]\n",
            "에포크  84 | 시간 134.60 min | 평균 손실 >> 생성자/판별자 1188.42/-153.57 [판별자-진짜: 1003.77 판별자-가짜: -1188.42]\n",
            "에포크  85 | 시간 136.19 min | 평균 손실 >> 생성자/판별자 1442.05/-182.29 [판별자-진짜: 1235.43 판별자-가짜: -1442.05]\n",
            "에포크  86 | 시간 137.77 min | 평균 손실 >> 생성자/판별자 1320.90/-169.78 [판별자-진짜: 1128.74 판별자-가짜: -1320.90]\n",
            "에포크  87 | 시간 139.36 min | 평균 손실 >> 생성자/판별자 1377.64/-136.05 [판별자-진짜: 1214.72 판별자-가짜: -1377.64]\n",
            "에포크  88 | 시간 140.94 min | 평균 손실 >> 생성자/판별자 1257.75/-166.25 [판별자-진짜: 1058.94 판별자-가짜: -1257.75]\n",
            "에포크  89 | 시간 142.54 min | 평균 손실 >> 생성자/판별자 1661.34/-204.28 [판별자-진짜: 1411.03 판별자-가짜: -1661.34]\n",
            "에포크  90 | 시간 144.90 min | 평균 손실 >> 생성자/판별자 1829.01/-177.08 [판별자-진짜: 1585.53 판별자-가짜: -1829.01]\n",
            "에포크  91 | 시간 146.50 min | 평균 손실 >> 생성자/판별자 1925.68/-251.82 [판별자-진짜: 1654.97 판별자-가짜: -1925.68]\n",
            "에포크  92 | 시간 148.09 min | 평균 손실 >> 생성자/판별자 1887.06/-227.05 [판별자-진짜: 1609.76 판별자-가짜: -1887.06]\n",
            "에포크  93 | 시간 149.68 min | 평균 손실 >> 생성자/판별자 1802.13/-248.88 [판별자-진짜: 1521.20 판별자-가짜: -1802.13]\n",
            "에포크  94 | 시간 151.26 min | 평균 손실 >> 생성자/판별자 1858.00/-233.02 [판별자-진짜: 1581.64 판별자-가짜: -1858.00]\n",
            "에포크  95 | 시간 152.84 min | 평균 손실 >> 생성자/판별자 2010.63/-249.01 [판별자-진짜: 1696.12 판별자-가짜: -2010.63]\n",
            "에포크  96 | 시간 154.43 min | 평균 손실 >> 생성자/판별자 2084.66/-304.84 [판별자-진짜: 1742.03 판별자-가짜: -2084.66]\n",
            "에포크  97 | 시간 156.01 min | 평균 손실 >> 생성자/판별자 1637.88/-265.48 [판별자-진짜: 1352.86 판별자-가짜: -1637.88]\n",
            "에포크  98 | 시간 157.59 min | 평균 손실 >> 생성자/판별자 2400.51/-357.28 [판별자-진짜: 1997.79 판별자-가짜: -2400.51]\n",
            "에포크  99 | 시간 159.18 min | 평균 손실 >> 생성자/판별자 2303.32/-285.19 [판별자-진짜: 1925.14 판별자-가짜: -2303.32]\n",
            "에포크 100 | 시간 160.76 min | 평균 손실 >> 생성자/판별자 2123.44/-298.91 [판별자-진짜: 1786.68 판별자-가짜: -2123.44]\n"
          ],
          "name": "stdout"
        }
      ]
    },
    {
      "cell_type": "code",
      "metadata": {
        "colab": {
          "base_uri": "https://localhost:8080/",
          "height": 458
        },
        "id": "EhyoIu75o6TX",
        "outputId": "d818a7a5-ae7d-4d79-b4f6-e5bb8e11a7a9"
      },
      "source": [
        "import itertools\n",
        "\n",
        "\n",
        "fig = plt.figure(figsize=(8, 6))\n",
        "\n",
        "## 손실 그래프\n",
        "ax = fig.add_subplot(1, 1, 1)\n",
        "g_losses = [item[0] for item in itertools.chain(*all_losses)]\n",
        "d_losses = [item[1] for item in itertools.chain(*all_losses)]\n",
        "plt.plot(g_losses, label='Generator loss', alpha=0.95)\n",
        "plt.plot(d_losses, label='Discriminator loss', alpha=0.95)\n",
        "plt.legend(fontsize=20)\n",
        "ax.set_xlabel('Iteration', size=15)\n",
        "ax.set_ylabel('Loss', size=15)\n",
        "\n",
        "epochs = np.arange(1, 101)\n",
        "epoch2iter = lambda e: e*len(all_losses[-1])\n",
        "epoch_ticks = [1, 20, 40, 60, 80, 100]\n",
        "newpos   = [epoch2iter(e) for e in epoch_ticks]\n",
        "ax2 = ax.twiny()\n",
        "ax2.set_xticks(newpos)\n",
        "ax2.set_xticklabels(epoch_ticks)\n",
        "ax2.xaxis.set_ticks_position('bottom')\n",
        "ax2.xaxis.set_label_position('bottom')\n",
        "ax2.spines['bottom'].set_position(('outward', 60))\n",
        "ax2.set_xlabel('Epoch', size=15)\n",
        "ax2.set_xlim(ax.get_xlim())\n",
        "ax.tick_params(axis='both', which='major', labelsize=15)\n",
        "ax2.tick_params(axis='both', which='major', labelsize=15)\n",
        "\n",
        "plt.show()"
      ],
      "execution_count": 17,
      "outputs": [
        {
          "output_type": "display_data",
          "data": {
            "image/png": "[encoded data removed]",
            "text/plain": [
              "<Figure size 576x432 with 2 Axes>"
            ]
          },
          "metadata": {
            "tags": [],
            "needs_background": "light"
          }
        }
      ]
    },
    {
      "cell_type": "code",
      "metadata": {
        "colab": {
          "base_uri": "https://localhost:8080/",
          "height": 783
        },
        "id": "FPW5iPQeo6TX",
        "outputId": "f6191ab5-9e7f-4818-aeb5-e7280d599d4b"
      },
      "source": [
        "selected_epochs = [1, 2, 4, 10, 50, 100]\n",
        "fig = plt.figure(figsize=(10, 14))\n",
        "for i,e in enumerate(selected_epochs):\n",
        "    for j in range(5):\n",
        "        ax = fig.add_subplot(6, 5, i*5+j+1)\n",
        "        ax.set_xticks([])\n",
        "        ax.set_yticks([])\n",
        "        if j == 0:\n",
        "            ax.text(\n",
        "                -0.06, 0.5, 'Epoch {}'.format(e),\n",
        "                rotation=90, size=18, color='red',\n",
        "                horizontalalignment='right',\n",
        "                verticalalignment='center', \n",
        "                transform=ax.transAxes)\n",
        "        \n",
        "        image = epoch_samples[e-1][j]\n",
        "        ax.imshow(image, cmap='gray_r')\n",
        "\n",
        "plt.show()"
      ],
      "execution_count": 18,
      "outputs": [
        {
          "output_type": "display_data",
          "data": {
            "image/png": "[encoded data removed]",
            "text/plain": [
              "<Figure size 720x1008 with 30 Axes>"
            ]
          },
          "metadata": {
            "tags": []
          }
        }
      ]
    },
    {
      "cell_type": "markdown",
      "metadata": {
        "id": "YBrkP6vWo6TY"
      },
      "source": [
        "## 모드 붕괴"
      ]
    },
    {
      "cell_type": "code",
      "metadata": {
        "colab": {
          "base_uri": "https://localhost:8080/",
          "height": 622
        },
        "id": "y0a0y7LEo6TY",
        "outputId": "c9745d8d-542f-485d-a93b-31b3596dcec0"
      },
      "source": [
        "Image(url='https://git.io/JLjcT', width=600)"
      ],
      "execution_count": 19,
      "outputs": [
        {
          "output_type": "execute_result",
          "data": {
            "text/html": [
              "<img src=\"https://git.io/JLjcT\" width=\"600\"/>"
            ],
            "text/plain": [
              "<IPython.core.display.Image object>"
            ]
          },
          "metadata": {
            "tags": []
          },
          "execution_count": 19
        }
      ]
    }
  ]
}